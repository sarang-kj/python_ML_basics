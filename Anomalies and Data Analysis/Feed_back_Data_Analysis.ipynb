{
 "cells": [
  {
   "cell_type": "code",
   "execution_count": 29,
   "metadata": {
    "id": "aNUItRuoItEj"
   },
   "outputs": [],
   "source": [
    "import numpy as np\n",
    "import pandas as pd\n",
    "import seaborn as sns\n",
    "import matplotlib.pyplot as plt\n",
    "%matplotlib inline\n",
    "import warnings\n",
    "warnings.filterwarnings('ignore')"
   ]
  },
  {
   "cell_type": "markdown",
   "metadata": {
    "id": "-K83OJV2HDBY"
   },
   "source": [
    "## Loading Data"
   ]
  },
  {
   "cell_type": "code",
   "execution_count": 30,
   "metadata": {},
   "outputs": [],
   "source": [
    "#pip install seaborn"
   ]
  },
  {
   "cell_type": "code",
   "execution_count": 31,
   "metadata": {
    "id": "AQjLcipxG-R1"
   },
   "outputs": [],
   "source": [
    "#df_class=pd.read_csv(\"/content/survey_data.csv\")\n",
    "df_class=pd.read_csv(\"https://raw.githubusercontent.com/sijuswamy/Intel-Unnati-sessions/main/Feed_back_data.csv\")"
   ]
  },
  {
   "cell_type": "code",
   "execution_count": 32,
   "metadata": {},
   "outputs": [
    {
     "data": {
      "text/html": [
       "<div>\n",
       "<style scoped>\n",
       "    .dataframe tbody tr th:only-of-type {\n",
       "        vertical-align: middle;\n",
       "    }\n",
       "\n",
       "    .dataframe tbody tr th {\n",
       "        vertical-align: top;\n",
       "    }\n",
       "\n",
       "    .dataframe thead th {\n",
       "        text-align: right;\n",
       "    }\n",
       "</style>\n",
       "<table border=\"1\" class=\"dataframe\">\n",
       "  <thead>\n",
       "    <tr style=\"text-align: right;\">\n",
       "      <th></th>\n",
       "      <th>Timestamp</th>\n",
       "      <th>Name of the Participant</th>\n",
       "      <th>Email ID</th>\n",
       "      <th>Branch</th>\n",
       "      <th>Semester</th>\n",
       "      <th>Recourse Person of the session</th>\n",
       "      <th>How would you rate the overall quality and relevance of the course content presented in this session?</th>\n",
       "      <th>To what extent did you find the training methods and delivery style effective in helping you understand the concepts presented?</th>\n",
       "      <th>How would you rate the resource person's knowledge and expertise in the subject matter covered during this session?</th>\n",
       "      <th>To what extent do you believe the content covered in this session is relevant and applicable to real-world industry scenarios?</th>\n",
       "      <th>How would you rate the overall organization of the session, including time management, clarity of instructions, and interactive elements?</th>\n",
       "      <th>Please provide any additional comments, suggestions, or feedback you have regarding the session. Your insights are valuable and will help us enhance the overall learning experience.</th>\n",
       "    </tr>\n",
       "  </thead>\n",
       "  <tbody>\n",
       "    <tr>\n",
       "      <th>0</th>\n",
       "      <td>2024/02/19 1:41:40 PM GMT+5:30</td>\n",
       "      <td>Aaron James Koshy</td>\n",
       "      <td>aaron.csa2125@saintgits.org</td>\n",
       "      <td>CSE</td>\n",
       "      <td>Sixth</td>\n",
       "      <td>Dr. Anju Pratap</td>\n",
       "      <td>5</td>\n",
       "      <td>5</td>\n",
       "      <td>5</td>\n",
       "      <td>5</td>\n",
       "      <td>5</td>\n",
       "      <td>NaN</td>\n",
       "    </tr>\n",
       "    <tr>\n",
       "      <th>1</th>\n",
       "      <td>2024/02/19 1:41:59 PM GMT+5:30</td>\n",
       "      <td>Rahul Biju</td>\n",
       "      <td>rb.csb2125@saintgits.org</td>\n",
       "      <td>CSE</td>\n",
       "      <td>Sixth</td>\n",
       "      <td>Dr. Anju Pratap</td>\n",
       "      <td>5</td>\n",
       "      <td>5</td>\n",
       "      <td>5</td>\n",
       "      <td>5</td>\n",
       "      <td>4</td>\n",
       "      <td>NaN</td>\n",
       "    </tr>\n",
       "    <tr>\n",
       "      <th>2</th>\n",
       "      <td>2024/02/19 1:42:07 PM GMT+5:30</td>\n",
       "      <td>Sarang kj</td>\n",
       "      <td>sarangkj.ec2226@saintgits.org</td>\n",
       "      <td>ECE</td>\n",
       "      <td>Fourth</td>\n",
       "      <td>Dr. Anju Pratap</td>\n",
       "      <td>4</td>\n",
       "      <td>4</td>\n",
       "      <td>4</td>\n",
       "      <td>4</td>\n",
       "      <td>4</td>\n",
       "      <td>NaN</td>\n",
       "    </tr>\n",
       "    <tr>\n",
       "      <th>3</th>\n",
       "      <td>2024/02/19 1:42:14 PM GMT+5:30</td>\n",
       "      <td>Leya Kurian</td>\n",
       "      <td>leya.csb2125@saintgits.org</td>\n",
       "      <td>CSE</td>\n",
       "      <td>Sixth</td>\n",
       "      <td>Dr. Anju Pratap</td>\n",
       "      <td>5</td>\n",
       "      <td>5</td>\n",
       "      <td>5</td>\n",
       "      <td>5</td>\n",
       "      <td>5</td>\n",
       "      <td>It was good session</td>\n",
       "    </tr>\n",
       "    <tr>\n",
       "      <th>4</th>\n",
       "      <td>2024/02/19 1:42:27 PM GMT+5:30</td>\n",
       "      <td>Muhamed Adil</td>\n",
       "      <td>maev.csb2125@saintgits.org</td>\n",
       "      <td>CSE</td>\n",
       "      <td>Sixth</td>\n",
       "      <td>Dr. Anju Pratap</td>\n",
       "      <td>5</td>\n",
       "      <td>5</td>\n",
       "      <td>5</td>\n",
       "      <td>5</td>\n",
       "      <td>5</td>\n",
       "      <td>NaN</td>\n",
       "    </tr>\n",
       "  </tbody>\n",
       "</table>\n",
       "</div>"
      ],
      "text/plain": [
       "                        Timestamp Name of the Participant   \n",
       "0  2024/02/19 1:41:40 PM GMT+5:30      Aaron James Koshy   \\\n",
       "1  2024/02/19 1:41:59 PM GMT+5:30              Rahul Biju   \n",
       "2  2024/02/19 1:42:07 PM GMT+5:30              Sarang kj    \n",
       "3  2024/02/19 1:42:14 PM GMT+5:30             Leya Kurian   \n",
       "4  2024/02/19 1:42:27 PM GMT+5:30           Muhamed Adil    \n",
       "\n",
       "                        Email ID Branch Semester   \n",
       "0    aaron.csa2125@saintgits.org    CSE    Sixth  \\\n",
       "1       rb.csb2125@saintgits.org    CSE    Sixth   \n",
       "2  sarangkj.ec2226@saintgits.org    ECE   Fourth   \n",
       "3     leya.csb2125@saintgits.org    CSE    Sixth   \n",
       "4     maev.csb2125@saintgits.org    CSE    Sixth   \n",
       "\n",
       "  Recourse Person of the session   \n",
       "0                Dr. Anju Pratap  \\\n",
       "1                Dr. Anju Pratap   \n",
       "2                Dr. Anju Pratap   \n",
       "3                Dr. Anju Pratap   \n",
       "4                Dr. Anju Pratap   \n",
       "\n",
       "   How would you rate the overall quality and relevance of the course content presented in this session?   \n",
       "0                                                  5                                                      \\\n",
       "1                                                  5                                                       \n",
       "2                                                  4                                                       \n",
       "3                                                  5                                                       \n",
       "4                                                  5                                                       \n",
       "\n",
       "   To what extent did you find the training methods and delivery style effective in helping you understand the concepts presented?   \n",
       "0                                                  5                                                                                \\\n",
       "1                                                  5                                                                                 \n",
       "2                                                  4                                                                                 \n",
       "3                                                  5                                                                                 \n",
       "4                                                  5                                                                                 \n",
       "\n",
       "   How would you rate the resource person's knowledge and expertise in the subject matter covered during this session?   \n",
       "0                                                  5                                                                    \\\n",
       "1                                                  5                                                                     \n",
       "2                                                  4                                                                     \n",
       "3                                                  5                                                                     \n",
       "4                                                  5                                                                     \n",
       "\n",
       "   To what extent do you believe the content covered in this session is relevant and applicable to real-world industry scenarios?   \n",
       "0                                                  5                                                                               \\\n",
       "1                                                  5                                                                                \n",
       "2                                                  4                                                                                \n",
       "3                                                  5                                                                                \n",
       "4                                                  5                                                                                \n",
       "\n",
       "   How would you rate the overall organization of the session, including time management, clarity of instructions, and interactive elements?   \n",
       "0                                                  5                                                                                          \\\n",
       "1                                                  4                                                                                           \n",
       "2                                                  4                                                                                           \n",
       "3                                                  5                                                                                           \n",
       "4                                                  5                                                                                           \n",
       "\n",
       "  Please provide any additional comments, suggestions, or feedback you have regarding the session. Your insights are valuable and will help us enhance the overall learning experience.  \n",
       "0                                                NaN                                                                                                                                     \n",
       "1                                                NaN                                                                                                                                     \n",
       "2                                                NaN                                                                                                                                     \n",
       "3                                It was good session                                                                                                                                     \n",
       "4                                                NaN                                                                                                                                     "
      ]
     },
     "execution_count": 32,
     "metadata": {},
     "output_type": "execute_result"
    }
   ],
   "source": [
    "df_class.head()"
   ]
  },
  {
   "cell_type": "code",
   "execution_count": 33,
   "metadata": {
    "colab": {
     "base_uri": "https://localhost:8080/",
     "height": 310
    },
    "id": "EBdj8dXvKG5Z",
    "outputId": "12370aa9-3fcf-46b2-abb0-2cc755805b4d"
   },
   "outputs": [
    {
     "data": {
      "text/html": [
       "<style type=\"text/css\">\n",
       "#T_55e7e_row0_col0, #T_55e7e_row0_col1, #T_55e7e_row0_col2, #T_55e7e_row0_col3, #T_55e7e_row0_col4, #T_55e7e_row0_col5, #T_55e7e_row0_col6, #T_55e7e_row0_col7, #T_55e7e_row0_col8, #T_55e7e_row0_col9, #T_55e7e_row0_col10, #T_55e7e_row0_col11, #T_55e7e_row1_col0, #T_55e7e_row1_col1, #T_55e7e_row1_col2, #T_55e7e_row1_col3, #T_55e7e_row1_col4, #T_55e7e_row1_col5, #T_55e7e_row1_col6, #T_55e7e_row1_col7, #T_55e7e_row1_col8, #T_55e7e_row1_col9, #T_55e7e_row1_col10, #T_55e7e_row1_col11, #T_55e7e_row2_col0, #T_55e7e_row2_col1, #T_55e7e_row2_col2, #T_55e7e_row2_col3, #T_55e7e_row2_col4, #T_55e7e_row2_col5, #T_55e7e_row2_col6, #T_55e7e_row2_col7, #T_55e7e_row2_col8, #T_55e7e_row2_col9, #T_55e7e_row2_col10, #T_55e7e_row2_col11, #T_55e7e_row3_col0, #T_55e7e_row3_col1, #T_55e7e_row3_col2, #T_55e7e_row3_col3, #T_55e7e_row3_col4, #T_55e7e_row3_col5, #T_55e7e_row3_col6, #T_55e7e_row3_col7, #T_55e7e_row3_col8, #T_55e7e_row3_col9, #T_55e7e_row3_col10, #T_55e7e_row3_col11, #T_55e7e_row4_col0, #T_55e7e_row4_col1, #T_55e7e_row4_col2, #T_55e7e_row4_col3, #T_55e7e_row4_col4, #T_55e7e_row4_col5, #T_55e7e_row4_col6, #T_55e7e_row4_col7, #T_55e7e_row4_col8, #T_55e7e_row4_col9, #T_55e7e_row4_col10, #T_55e7e_row4_col11 {\n",
       "  background-color: darkgreen;\n",
       "  color: white;\n",
       "  border-color: darkblack;\n",
       "}\n",
       "</style>\n",
       "<table id=\"T_55e7e\">\n",
       "  <thead>\n",
       "    <tr>\n",
       "      <th class=\"blank level0\" >&nbsp;</th>\n",
       "      <th id=\"T_55e7e_level0_col0\" class=\"col_heading level0 col0\" >Timestamp</th>\n",
       "      <th id=\"T_55e7e_level0_col1\" class=\"col_heading level0 col1\" >Name of the Participant</th>\n",
       "      <th id=\"T_55e7e_level0_col2\" class=\"col_heading level0 col2\" >Email ID</th>\n",
       "      <th id=\"T_55e7e_level0_col3\" class=\"col_heading level0 col3\" >Branch</th>\n",
       "      <th id=\"T_55e7e_level0_col4\" class=\"col_heading level0 col4\" >Semester</th>\n",
       "      <th id=\"T_55e7e_level0_col5\" class=\"col_heading level0 col5\" >Recourse Person of the session</th>\n",
       "      <th id=\"T_55e7e_level0_col6\" class=\"col_heading level0 col6\" >How would you rate the overall quality and relevance of the course content presented in this session?</th>\n",
       "      <th id=\"T_55e7e_level0_col7\" class=\"col_heading level0 col7\" >To what extent did you find the training methods and delivery style effective in helping you understand the concepts presented?</th>\n",
       "      <th id=\"T_55e7e_level0_col8\" class=\"col_heading level0 col8\" >How would you rate the resource person's knowledge and expertise in the subject matter covered during this session?</th>\n",
       "      <th id=\"T_55e7e_level0_col9\" class=\"col_heading level0 col9\" >To what extent do you believe the content covered in this session is relevant and applicable to real-world industry scenarios?</th>\n",
       "      <th id=\"T_55e7e_level0_col10\" class=\"col_heading level0 col10\" >How would you rate the overall organization of the session, including time management, clarity of instructions, and interactive elements?</th>\n",
       "      <th id=\"T_55e7e_level0_col11\" class=\"col_heading level0 col11\" >Please provide any additional comments, suggestions, or feedback you have regarding the session. Your insights are valuable and will help us enhance the overall learning experience.</th>\n",
       "    </tr>\n",
       "  </thead>\n",
       "  <tbody>\n",
       "    <tr>\n",
       "      <th id=\"T_55e7e_level0_row0\" class=\"row_heading level0 row0\" >174</th>\n",
       "      <td id=\"T_55e7e_row0_col0\" class=\"data row0 col0\" >2024/02/22 1:01:27 PM GMT+5:30</td>\n",
       "      <td id=\"T_55e7e_row0_col1\" class=\"data row0 col1\" >Rahul Krishnan </td>\n",
       "      <td id=\"T_55e7e_row0_col2\" class=\"data row0 col2\" >rahulk.ec2226@saintgits.org</td>\n",
       "      <td id=\"T_55e7e_row0_col3\" class=\"data row0 col3\" >ECE</td>\n",
       "      <td id=\"T_55e7e_row0_col4\" class=\"data row0 col4\" >Fourth</td>\n",
       "      <td id=\"T_55e7e_row0_col5\" class=\"data row0 col5\" >Mr. Arun Sebastian</td>\n",
       "      <td id=\"T_55e7e_row0_col6\" class=\"data row0 col6\" >4</td>\n",
       "      <td id=\"T_55e7e_row0_col7\" class=\"data row0 col7\" >4</td>\n",
       "      <td id=\"T_55e7e_row0_col8\" class=\"data row0 col8\" >4</td>\n",
       "      <td id=\"T_55e7e_row0_col9\" class=\"data row0 col9\" >4</td>\n",
       "      <td id=\"T_55e7e_row0_col10\" class=\"data row0 col10\" >4</td>\n",
       "      <td id=\"T_55e7e_row0_col11\" class=\"data row0 col11\" >nan</td>\n",
       "    </tr>\n",
       "    <tr>\n",
       "      <th id=\"T_55e7e_level0_row1\" class=\"row_heading level0 row1\" >38</th>\n",
       "      <td id=\"T_55e7e_row1_col0\" class=\"data row1 col0\" >2024/02/19 4:26:50 PM GMT+5:30</td>\n",
       "      <td id=\"T_55e7e_row1_col1\" class=\"data row1 col1\" >Sebin Sebastian </td>\n",
       "      <td id=\"T_55e7e_row1_col2\" class=\"data row1 col2\" >sebin.ec2125@saintgits.org</td>\n",
       "      <td id=\"T_55e7e_row1_col3\" class=\"data row1 col3\" >ECE</td>\n",
       "      <td id=\"T_55e7e_row1_col4\" class=\"data row1 col4\" >Sixth</td>\n",
       "      <td id=\"T_55e7e_row1_col5\" class=\"data row1 col5\" >Dr. Anju Pratap</td>\n",
       "      <td id=\"T_55e7e_row1_col6\" class=\"data row1 col6\" >5</td>\n",
       "      <td id=\"T_55e7e_row1_col7\" class=\"data row1 col7\" >5</td>\n",
       "      <td id=\"T_55e7e_row1_col8\" class=\"data row1 col8\" >5</td>\n",
       "      <td id=\"T_55e7e_row1_col9\" class=\"data row1 col9\" >5</td>\n",
       "      <td id=\"T_55e7e_row1_col10\" class=\"data row1 col10\" >5</td>\n",
       "      <td id=\"T_55e7e_row1_col11\" class=\"data row1 col11\" >nan</td>\n",
       "    </tr>\n",
       "    <tr>\n",
       "      <th id=\"T_55e7e_level0_row2\" class=\"row_heading level0 row2\" >20</th>\n",
       "      <td id=\"T_55e7e_row2_col0\" class=\"data row2 col0\" >2024/02/19 4:23:51 PM GMT+5:30</td>\n",
       "      <td id=\"T_55e7e_row2_col1\" class=\"data row2 col1\" >Rahul Biju</td>\n",
       "      <td id=\"T_55e7e_row2_col2\" class=\"data row2 col2\" >rb.csb2125@saintgits.org</td>\n",
       "      <td id=\"T_55e7e_row2_col3\" class=\"data row2 col3\" >CSE</td>\n",
       "      <td id=\"T_55e7e_row2_col4\" class=\"data row2 col4\" >Sixth</td>\n",
       "      <td id=\"T_55e7e_row2_col5\" class=\"data row2 col5\" >Mrs. Akshara Sasidharan</td>\n",
       "      <td id=\"T_55e7e_row2_col6\" class=\"data row2 col6\" >5</td>\n",
       "      <td id=\"T_55e7e_row2_col7\" class=\"data row2 col7\" >5</td>\n",
       "      <td id=\"T_55e7e_row2_col8\" class=\"data row2 col8\" >5</td>\n",
       "      <td id=\"T_55e7e_row2_col9\" class=\"data row2 col9\" >5</td>\n",
       "      <td id=\"T_55e7e_row2_col10\" class=\"data row2 col10\" >5</td>\n",
       "      <td id=\"T_55e7e_row2_col11\" class=\"data row2 col11\" >nan</td>\n",
       "    </tr>\n",
       "    <tr>\n",
       "      <th id=\"T_55e7e_level0_row3\" class=\"row_heading level0 row3\" >24</th>\n",
       "      <td id=\"T_55e7e_row3_col0\" class=\"data row3 col0\" >2024/02/19 4:24:01 PM GMT+5:30</td>\n",
       "      <td id=\"T_55e7e_row3_col1\" class=\"data row3 col1\" >Mathews Reji </td>\n",
       "      <td id=\"T_55e7e_row3_col2\" class=\"data row3 col2\" >mathewsr.csb2226@saintgits.org</td>\n",
       "      <td id=\"T_55e7e_row3_col3\" class=\"data row3 col3\" >CSE</td>\n",
       "      <td id=\"T_55e7e_row3_col4\" class=\"data row3 col4\" >Fourth</td>\n",
       "      <td id=\"T_55e7e_row3_col5\" class=\"data row3 col5\" >Mrs. Akshara Sasidharan</td>\n",
       "      <td id=\"T_55e7e_row3_col6\" class=\"data row3 col6\" >4</td>\n",
       "      <td id=\"T_55e7e_row3_col7\" class=\"data row3 col7\" >4</td>\n",
       "      <td id=\"T_55e7e_row3_col8\" class=\"data row3 col8\" >4</td>\n",
       "      <td id=\"T_55e7e_row3_col9\" class=\"data row3 col9\" >5</td>\n",
       "      <td id=\"T_55e7e_row3_col10\" class=\"data row3 col10\" >4</td>\n",
       "      <td id=\"T_55e7e_row3_col11\" class=\"data row3 col11\" >Usage of microphone would be nice</td>\n",
       "    </tr>\n",
       "    <tr>\n",
       "      <th id=\"T_55e7e_level0_row4\" class=\"row_heading level0 row4\" >205</th>\n",
       "      <td id=\"T_55e7e_row4_col0\" class=\"data row4 col0\" >2024/02/22 1:06:44 PM GMT+5:30</td>\n",
       "      <td id=\"T_55e7e_row4_col1\" class=\"data row4 col1\" >Lara Marium Jacob </td>\n",
       "      <td id=\"T_55e7e_row4_col2\" class=\"data row4 col2\" >laramj.csb2226@saintgits.org</td>\n",
       "      <td id=\"T_55e7e_row4_col3\" class=\"data row4 col3\" >CSE</td>\n",
       "      <td id=\"T_55e7e_row4_col4\" class=\"data row4 col4\" >Fourth</td>\n",
       "      <td id=\"T_55e7e_row4_col5\" class=\"data row4 col5\" >Mr. Arun Sebastian</td>\n",
       "      <td id=\"T_55e7e_row4_col6\" class=\"data row4 col6\" >5</td>\n",
       "      <td id=\"T_55e7e_row4_col7\" class=\"data row4 col7\" >5</td>\n",
       "      <td id=\"T_55e7e_row4_col8\" class=\"data row4 col8\" >5</td>\n",
       "      <td id=\"T_55e7e_row4_col9\" class=\"data row4 col9\" >5</td>\n",
       "      <td id=\"T_55e7e_row4_col10\" class=\"data row4 col10\" >4</td>\n",
       "      <td id=\"T_55e7e_row4_col11\" class=\"data row4 col11\" >nan</td>\n",
       "    </tr>\n",
       "  </tbody>\n",
       "</table>\n"
      ],
      "text/plain": [
       "<pandas.io.formats.style.Styler at 0x7fa19a123250>"
      ]
     },
     "execution_count": 33,
     "metadata": {},
     "output_type": "execute_result"
    }
   ],
   "source": [
    "df_class.sample(5).style.set_properties(**{'background-color': 'darkgreen',\n",
    "                           'color': 'white',\n",
    "                           'border-color': 'darkblack'})"
   ]
  },
  {
   "cell_type": "markdown",
   "metadata": {
    "id": "9n_2DtvWJKMt"
   },
   "source": [
    "## Data wrangling"
   ]
  },
  {
   "cell_type": "code",
   "execution_count": 34,
   "metadata": {
    "colab": {
     "base_uri": "https://localhost:8080/"
    },
    "id": "OoInTmFvKAVZ",
    "outputId": "aa70acae-9600-482a-c536-f4d0b4fb70ed"
   },
   "outputs": [
    {
     "name": "stdout",
     "output_type": "stream",
     "text": [
      "<class 'pandas.core.frame.DataFrame'>\n",
      "RangeIndex: 207 entries, 0 to 206\n",
      "Data columns (total 12 columns):\n",
      " #   Column                                                                                                                                                                                 Non-Null Count  Dtype \n",
      "---  ------                                                                                                                                                                                 --------------  ----- \n",
      " 0   Timestamp                                                                                                                                                                              207 non-null    object\n",
      " 1   Name of the Participant                                                                                                                                                                207 non-null    object\n",
      " 2   Email ID                                                                                                                                                                               207 non-null    object\n",
      " 3   Branch                                                                                                                                                                                 207 non-null    object\n",
      " 4   Semester                                                                                                                                                                               207 non-null    object\n",
      " 5   Recourse Person of the session                                                                                                                                                         207 non-null    object\n",
      " 6   How would you rate the overall quality and relevance of the course content presented in this session?                                                                                  207 non-null    int64 \n",
      " 7   To what extent did you find the training methods and delivery style effective in helping you understand the concepts presented?                                                        207 non-null    int64 \n",
      " 8   How would you rate the resource person's knowledge and expertise in the subject matter covered during this session?                                                                    207 non-null    int64 \n",
      " 9   To what extent do you believe the content covered in this session is relevant and applicable to real-world industry scenarios?                                                         207 non-null    int64 \n",
      " 10  How would you rate the overall organization of the session, including time management, clarity of instructions, and interactive elements?                                              207 non-null    int64 \n",
      " 11  Please provide any additional comments, suggestions, or feedback you have regarding the session. Your insights are valuable and will help us enhance the overall learning experience.  12 non-null     object\n",
      "dtypes: int64(5), object(7)\n",
      "memory usage: 19.5+ KB\n"
     ]
    }
   ],
   "source": [
    "\n",
    "df_class.info()"
   ]
  },
  {
   "cell_type": "code",
   "execution_count": 35,
   "metadata": {
    "id": "3uqyvyOTKZY-"
   },
   "outputs": [],
   "source": [
    "df_class = df_class.drop(['Timestamp','Email ID','Please provide any additional comments, suggestions, or feedback you have regarding the session. Your insights are valuable and will help us enhance the overall learning experience.'],axis=1)"
   ]
  },
  {
   "cell_type": "code",
   "execution_count": 36,
   "metadata": {},
   "outputs": [
    {
     "name": "stdout",
     "output_type": "stream",
     "text": [
      "<class 'pandas.core.frame.DataFrame'>\n",
      "RangeIndex: 207 entries, 0 to 206\n",
      "Data columns (total 9 columns):\n",
      " #   Column                                                                                                                                     Non-Null Count  Dtype \n",
      "---  ------                                                                                                                                     --------------  ----- \n",
      " 0   Name of the Participant                                                                                                                    207 non-null    object\n",
      " 1   Branch                                                                                                                                     207 non-null    object\n",
      " 2   Semester                                                                                                                                   207 non-null    object\n",
      " 3   Recourse Person of the session                                                                                                             207 non-null    object\n",
      " 4   How would you rate the overall quality and relevance of the course content presented in this session?                                      207 non-null    int64 \n",
      " 5   To what extent did you find the training methods and delivery style effective in helping you understand the concepts presented?            207 non-null    int64 \n",
      " 6   How would you rate the resource person's knowledge and expertise in the subject matter covered during this session?                        207 non-null    int64 \n",
      " 7   To what extent do you believe the content covered in this session is relevant and applicable to real-world industry scenarios?             207 non-null    int64 \n",
      " 8   How would you rate the overall organization of the session, including time management, clarity of instructions, and interactive elements?  207 non-null    int64 \n",
      "dtypes: int64(5), object(4)\n",
      "memory usage: 14.7+ KB\n"
     ]
    }
   ],
   "source": [
    "df_class.info()"
   ]
  },
  {
   "cell_type": "code",
   "execution_count": 37,
   "metadata": {
    "id": "2OXWFFs_JM1g"
   },
   "outputs": [],
   "source": [
    "df_class.columns = [\"Name\",\"Branch\",\"Semester\",\"Resourse Person\",\"Content Quality\",\"Effeciveness\",\"Expertise\",\"Relevance\",\"Overall Organization\"]"
   ]
  },
  {
   "cell_type": "code",
   "execution_count": 38,
   "metadata": {
    "colab": {
     "base_uri": "https://localhost:8080/",
     "height": 206
    },
    "id": "8wspbQ6BK0Gb",
    "outputId": "09581d0a-4588-44b5-d487-53d2feea5a6b"
   },
   "outputs": [
    {
     "data": {
      "text/html": [
       "<div>\n",
       "<style scoped>\n",
       "    .dataframe tbody tr th:only-of-type {\n",
       "        vertical-align: middle;\n",
       "    }\n",
       "\n",
       "    .dataframe tbody tr th {\n",
       "        vertical-align: top;\n",
       "    }\n",
       "\n",
       "    .dataframe thead th {\n",
       "        text-align: right;\n",
       "    }\n",
       "</style>\n",
       "<table border=\"1\" class=\"dataframe\">\n",
       "  <thead>\n",
       "    <tr style=\"text-align: right;\">\n",
       "      <th></th>\n",
       "      <th>Name</th>\n",
       "      <th>Branch</th>\n",
       "      <th>Semester</th>\n",
       "      <th>Resourse Person</th>\n",
       "      <th>Content Quality</th>\n",
       "      <th>Effeciveness</th>\n",
       "      <th>Expertise</th>\n",
       "      <th>Relevance</th>\n",
       "      <th>Overall Organization</th>\n",
       "    </tr>\n",
       "  </thead>\n",
       "  <tbody>\n",
       "    <tr>\n",
       "      <th>4</th>\n",
       "      <td>Muhamed Adil</td>\n",
       "      <td>CSE</td>\n",
       "      <td>Sixth</td>\n",
       "      <td>Dr. Anju Pratap</td>\n",
       "      <td>5</td>\n",
       "      <td>5</td>\n",
       "      <td>5</td>\n",
       "      <td>5</td>\n",
       "      <td>5</td>\n",
       "    </tr>\n",
       "    <tr>\n",
       "      <th>89</th>\n",
       "      <td>Jobin Pius</td>\n",
       "      <td>RB</td>\n",
       "      <td>Sixth</td>\n",
       "      <td>Mrs. Veena A Kumar</td>\n",
       "      <td>4</td>\n",
       "      <td>5</td>\n",
       "      <td>5</td>\n",
       "      <td>5</td>\n",
       "      <td>5</td>\n",
       "    </tr>\n",
       "    <tr>\n",
       "      <th>73</th>\n",
       "      <td>Rizia Sara Prabin</td>\n",
       "      <td>CSE</td>\n",
       "      <td>Fourth</td>\n",
       "      <td>Mrs. Akshara Sasidharan</td>\n",
       "      <td>4</td>\n",
       "      <td>4</td>\n",
       "      <td>4</td>\n",
       "      <td>4</td>\n",
       "      <td>4</td>\n",
       "    </tr>\n",
       "    <tr>\n",
       "      <th>104</th>\n",
       "      <td>Lara Marium Jacob</td>\n",
       "      <td>CSE</td>\n",
       "      <td>Fourth</td>\n",
       "      <td>Mrs. Veena A Kumar</td>\n",
       "      <td>5</td>\n",
       "      <td>5</td>\n",
       "      <td>5</td>\n",
       "      <td>5</td>\n",
       "      <td>4</td>\n",
       "    </tr>\n",
       "    <tr>\n",
       "      <th>66</th>\n",
       "      <td>Jobin Tom</td>\n",
       "      <td>CSE</td>\n",
       "      <td>Sixth</td>\n",
       "      <td>Mrs. Akshara Sasidharan</td>\n",
       "      <td>3</td>\n",
       "      <td>3</td>\n",
       "      <td>4</td>\n",
       "      <td>4</td>\n",
       "      <td>4</td>\n",
       "    </tr>\n",
       "  </tbody>\n",
       "</table>\n",
       "</div>"
      ],
      "text/plain": [
       "                   Name Branch Semester          Resourse Person   \n",
       "4         Muhamed Adil     CSE    Sixth          Dr. Anju Pratap  \\\n",
       "89          Jobin Pius      RB    Sixth       Mrs. Veena A Kumar   \n",
       "73   Rizia Sara Prabin     CSE   Fourth  Mrs. Akshara Sasidharan   \n",
       "104  Lara Marium Jacob     CSE   Fourth       Mrs. Veena A Kumar   \n",
       "66           Jobin Tom     CSE    Sixth  Mrs. Akshara Sasidharan   \n",
       "\n",
       "     Content Quality  Effeciveness  Expertise  Relevance  Overall Organization  \n",
       "4                  5             5          5          5                     5  \n",
       "89                 4             5          5          5                     5  \n",
       "73                 4             4          4          4                     4  \n",
       "104                5             5          5          5                     4  \n",
       "66                 3             3          4          4                     4  "
      ]
     },
     "execution_count": 38,
     "metadata": {},
     "output_type": "execute_result"
    }
   ],
   "source": [
    "df_class.sample(5)"
   ]
  },
  {
   "cell_type": "code",
   "execution_count": 39,
   "metadata": {
    "colab": {
     "base_uri": "https://localhost:8080/"
    },
    "id": "ICGM9brdK8P8",
    "outputId": "43d97c93-a759-47c5-b042-32451dc4d7d1"
   },
   "outputs": [
    {
     "data": {
      "text/plain": [
       "0"
      ]
     },
     "execution_count": 39,
     "metadata": {},
     "output_type": "execute_result"
    }
   ],
   "source": [
    "# checking for null\n",
    "df_class.isnull().sum().sum()"
   ]
  },
  {
   "cell_type": "code",
   "execution_count": 40,
   "metadata": {
    "colab": {
     "base_uri": "https://localhost:8080/"
    },
    "id": "z1HVI2ggLA68",
    "outputId": "f1223cc1-f536-4c70-9066-35b59a4591a8"
   },
   "outputs": [
    {
     "data": {
      "text/plain": [
       "(207, 9)"
      ]
     },
     "execution_count": 40,
     "metadata": {},
     "output_type": "execute_result"
    }
   ],
   "source": [
    "# dimension\n",
    "\n",
    "df_class.shape"
   ]
  },
  {
   "cell_type": "markdown",
   "metadata": {
    "id": "ZO-z1MlZLRaE"
   },
   "source": [
    "## Exploratory Data Analysis"
   ]
  },
  {
   "cell_type": "code",
   "execution_count": 41,
   "metadata": {
    "colab": {
     "base_uri": "https://localhost:8080/"
    },
    "id": "NM7CqwNeNBEy",
    "outputId": "28f267f1-4e3a-4f5f-9176-d219e8db90e3"
   },
   "outputs": [
    {
     "data": {
      "text/plain": [
       "Resourse Person\n",
       "Mrs. Akshara Sasidharan    28.99\n",
       "Mrs. Veena A Kumar         26.57\n",
       "Mrs. Gayathri J L          14.98\n",
       "Mr. Arun Sebastian         14.98\n",
       "Dr. Anju Pratap            14.49\n",
       "Name: proportion, dtype: float64"
      ]
     },
     "execution_count": 41,
     "metadata": {},
     "output_type": "execute_result"
    }
   ],
   "source": [
    "## creating a percentage analysis of RP-wise distribution of data\n",
    "round(df_class[\"Resourse Person\"].value_counts(normalize=True)*100,2)"
   ]
  },
  {
   "cell_type": "code",
   "execution_count": 42,
   "metadata": {},
   "outputs": [
    {
     "data": {
      "text/plain": [
       "Name\n",
       "Rizia Sara Prabin            3.86\n",
       "Sidharth V Menon             3.86\n",
       "Aaron James Koshy            3.38\n",
       "Rahul Biju                   3.38\n",
       "Abna Ev                      3.38\n",
       "Allen John Manoj             3.38\n",
       "Christo Joseph Sajan         3.38\n",
       "Jobinjoy Ponnappal           3.38\n",
       "Varsha S Panicker            3.38\n",
       "Nandana A                    3.38\n",
       "Rahul Krishnan               3.38\n",
       "Anjana Vinod                 3.38\n",
       "Kevin Kizhakekuttu Thomas    3.38\n",
       "Lara Marium Jacob            3.38\n",
       "Abia Abraham                 3.38\n",
       "Shalin Ann Thomas            3.38\n",
       "Jobin Pius                   3.38\n",
       "Sebin Sebastian              2.90\n",
       "Aaron Thomas Blessen         2.90\n",
       "Sani Anna Varghese           2.90\n",
       "Bhagya Sureshkumar           2.90\n",
       "Leya Kurian                  2.90\n",
       "Jobin Tom                    2.90\n",
       "Anaswara Biju                2.42\n",
       "Muhamed Adil                 2.42\n",
       "Aiswarya Arun                2.42\n",
       "Mathews Reji                 1.93\n",
       "Marianna Martin              1.93\n",
       "Riya Sara Shibu              1.93\n",
       "Riya Sara Shibu              1.45\n",
       "MATHEWS REJI                 1.45\n",
       "Sarang kj                    1.45\n",
       "Lisbeth Ajith                1.45\n",
       "Aiswarya Arun                0.97\n",
       "Muhamed Adil                 0.97\n",
       "Marianna Martin              0.97\n",
       "Lisbeth Ajith                0.48\n",
       "Anaswara Biju                0.48\n",
       "Lisbeth                      0.48\n",
       "Jobin Tom                    0.48\n",
       "Aaron Thomas Blessen         0.48\n",
       "Name: proportion, dtype: float64"
      ]
     },
     "execution_count": 42,
     "metadata": {},
     "output_type": "execute_result"
    }
   ],
   "source": [
    "## creating a percentage analysis of RP-wise distribution of data\n",
    "round(df_class[\"Name\"].value_counts(normalize=True)*100,2)"
   ]
  },
  {
   "cell_type": "markdown",
   "metadata": {
    "id": "SzwBdc2sNpH7"
   },
   "source": [
    "## Visualization"
   ]
  },
  {
   "cell_type": "code",
   "execution_count": 43,
   "metadata": {
    "colab": {
     "base_uri": "https://localhost:8080/",
     "height": 314
    },
    "id": "ctFkrfLrLI_J",
    "outputId": "91c4fe5a-c3c2-4800-c85f-286018355c95"
   },
   "outputs": [
    {
     "data": {
      "image/png": "[encoded data removed]",
      "text/plain": [
       "<Figure size 640x480 with 2 Axes>"
      ]
     },
     "metadata": {},
     "output_type": "display_data"
    }
   ],
   "source": [
    "ax = plt.subplot(1,2,1)\n",
    "ax = sns.countplot(x='Resourse Person', data=df_class)\n",
    "#ax.bar_label(ax.containers[0])\n",
    "plt.title(\"Faculty-wise distribution of data\", fontsize=20,color = 'Brown',pad=20)\n",
    "ax =plt.subplot(1,2,2)\n",
    "ax=df_class['Resourse Person'].value_counts().plot.pie(explode=[0.1, 0.1,0.1,0.1,0.1],autopct='%1.2f%%',shadow=True);\n",
    "ax.tick_params(axis='x', labelrotation=90)\n",
    "ax.set_title(label = \"Resourse Person\", fontsize = 20,color='Brown',pad=20);\n"
   ]
  },
  {
   "cell_type": "markdown",
   "metadata": {
    "id": "yWlLgr5sX0_z"
   },
   "source": [
    "## Summary of Responses\n"
   ]
  },
  {
   "cell_type": "code",
   "execution_count": 44,
   "metadata": {
    "colab": {
     "base_uri": "https://localhost:8080/",
     "height": 265
    },
    "id": "JHaFVI3nX2fl",
    "outputId": "09793029-e749-4010-ef19-3e6202e0acfa"
   },
   "outputs": [
    {
     "data": {
      "image/png": "[encoded data removed]",
      "text/plain": [
       "<Figure size 640x480 with 1 Axes>"
      ]
     },
     "metadata": {},
     "output_type": "display_data"
    }
   ],
   "source": [
    "sns.boxplot(y=df_class['Resourse Person'],x=df_class['Content Quality'])\n",
    "plt.show()"
   ]
  },
  {
   "cell_type": "code",
   "execution_count": 45,
   "metadata": {},
   "outputs": [
    {
     "data": {
      "image/png": "[encoded data removed]",
      "text/plain": [
       "<Figure size 640x480 with 1 Axes>"
      ]
     },
     "metadata": {},
     "output_type": "display_data"
    }
   ],
   "source": [
    "sns.boxplot(y=df_class['Resourse Person'],x=df_class['Effeciveness'])\n",
    "plt.show()"
   ]
  },
  {
   "cell_type": "code",
   "execution_count": 46,
   "metadata": {},
   "outputs": [
    {
     "name": "stdout",
     "output_type": "stream",
     "text": [
      "<class 'pandas.core.frame.DataFrame'>\n",
      "RangeIndex: 207 entries, 0 to 206\n",
      "Data columns (total 9 columns):\n",
      " #   Column                Non-Null Count  Dtype \n",
      "---  ------                --------------  ----- \n",
      " 0   Name                  207 non-null    object\n",
      " 1   Branch                207 non-null    object\n",
      " 2   Semester              207 non-null    object\n",
      " 3   Resourse Person       207 non-null    object\n",
      " 4   Content Quality       207 non-null    int64 \n",
      " 5   Effeciveness          207 non-null    int64 \n",
      " 6   Expertise             207 non-null    int64 \n",
      " 7   Relevance             207 non-null    int64 \n",
      " 8   Overall Organization  207 non-null    int64 \n",
      "dtypes: int64(5), object(4)\n",
      "memory usage: 14.7+ KB\n"
     ]
    }
   ],
   "source": [
    "df_class.info()"
   ]
  },
  {
   "cell_type": "code",
   "execution_count": 47,
   "metadata": {},
   "outputs": [
    {
     "data": {
      "image/png": "[encoded data removed]",
      "text/plain": [
       "<Figure size 640x480 with 1 Axes>"
      ]
     },
     "metadata": {},
     "output_type": "display_data"
    }
   ],
   "source": [
    "sns.boxplot(y=df_class['Resourse Person'],x=df_class['Expertise'])\n",
    "plt.show()"
   ]
  },
  {
   "cell_type": "code",
   "execution_count": 48,
   "metadata": {},
   "outputs": [
    {
     "data": {
      "image/png": "[encoded data removed]",
      "text/plain": [
       "<Figure size 640x480 with 1 Axes>"
      ]
     },
     "metadata": {},
     "output_type": "display_data"
    }
   ],
   "source": [
    "sns.boxplot(y=df_class['Resourse Person'],x=df_class['Relevance'])\n",
    "plt.show()"
   ]
  },
  {
   "cell_type": "code",
   "execution_count": 49,
   "metadata": {},
   "outputs": [
    {
     "data": {
      "image/png": "[encoded data removed]",
      "text/plain": [
       "<Figure size 640x480 with 1 Axes>"
      ]
     },
     "metadata": {},
     "output_type": "display_data"
    }
   ],
   "source": [
    "sns.boxplot(y=df_class['Resourse Person'],x=df_class['Overall Organization'])\n",
    "plt.show()"
   ]
  },
  {
   "cell_type": "code",
   "execution_count": 50,
   "metadata": {
    "colab": {
     "base_uri": "https://localhost:8080/",
     "height": 302
    },
    "id": "pvAeyrVpYNCe",
    "outputId": "c1eea76f-fa15-4537-fe93-47c3e20875ae"
   },
   "outputs": [
    {
     "data": {
      "image/png": "[encoded data removed]",
      "text/plain": [
       "<Figure size 640x480 with 1 Axes>"
      ]
     },
     "metadata": {},
     "output_type": "display_data"
    }
   ],
   "source": [
    "sns.boxplot(y=df_class['Resourse Person'],x=df_class['Branch'])\n",
    "plt.show()"
   ]
  },
  {
   "cell_type": "code",
   "execution_count": 51,
   "metadata": {},
   "outputs": [
    {
     "data": {
      "image/png": "[encoded data removed]",
      "text/plain": [
       "<Figure size 640x480 with 1 Axes>"
      ]
     },
     "metadata": {},
     "output_type": "display_data"
    }
   ],
   "source": [
    "sns.boxplot(y=df_class['Branch'],x=df_class['Content Quality'])\n",
    "plt.show()"
   ]
  },
  {
   "cell_type": "markdown",
   "metadata": {},
   "source": [
    "# Using K-means Clustering to identify segmentation over student's satisfaction"
   ]
  },
  {
   "cell_type": "markdown",
   "metadata": {},
   "source": [
    "## Finding the best value of k using elbow method"
   ]
  },
  {
   "cell_type": "code",
   "execution_count": 63,
   "metadata": {},
   "outputs": [],
   "source": [
    "input_col=[\"Content Quality\",\"Effeciveness\",\"Expertise\",\"Relevance\",\"Overall Organization\"]\n",
    "X=df_class[input_col].values"
   ]
  },
  {
   "cell_type": "code",
   "execution_count": 64,
   "metadata": {},
   "outputs": [],
   "source": [
    "# Initialize an empty list to store the within-cluster sum of squares\n",
    "from sklearn.cluster import KMeans\n",
    "wcss = []\n",
    "\n",
    "# Try different values of k\n",
    "for k in range(1, 11):\n",
    "    kmeans = KMeans(n_clusters=k,n_init='auto', random_state=42)\n",
    "    kmeans.fit(X)\n",
    "    wcss.append(kmeans.inertia_)# here inertia calculate sum of square distance in each cluster\n"
   ]
  },
  {
   "cell_type": "code",
   "execution_count": 65,
   "metadata": {},
   "outputs": [
    {
     "data": {
      "image/png": "[encoded data removed]",
      "text/plain": [
       "<Figure size 640x480 with 1 Axes>"
      ]
     },
     "metadata": {},
     "output_type": "display_data"
    }
   ],
   "source": [
    "# Plot the within-cluster sum of squares for different values of k\n",
    "plt.plot(range(1, 11), wcss, marker='o')\n",
    "plt.xlabel('Number of Clusters (k)')\n",
    "plt.ylabel('Within-Cluster Sum of Squares (WCSS)')\n",
    "plt.title('Elbow Method')\n",
    "plt.show()"
   ]
  },
  {
   "cell_type": "markdown",
   "metadata": {},
   "source": [
    "## Using Gridsearch method"
   ]
  },
  {
   "cell_type": "code",
   "execution_count": 66,
   "metadata": {},
   "outputs": [],
   "source": [
    "# Define the parameter grid\n",
    "from sklearn.model_selection import GridSearchCV\n",
    "\n",
    "param_grid = {'n_clusters': [2, 3, 4, 5, 6]}\n",
    "\n",
    "# Create a KMeans object\n",
    "kmeans = KMeans(n_init='auto',random_state=42)\n",
    "\n",
    "# Create a GridSearchCV object\n",
    "grid_search = GridSearchCV(kmeans, param_grid, cv=5)\n",
    "\n",
    "# Perform grid search\n",
    "grid_search.fit(X)\n",
    "\n",
    "# Get the best parameters and the best score\n",
    "best_params = grid_search.best_params_\n",
    "best_score = grid_search.best_score_"
   ]
  },
  {
   "cell_type": "code",
   "execution_count": 67,
   "metadata": {},
   "outputs": [
    {
     "name": "stdout",
     "output_type": "stream",
     "text": [
      "Best Parameters: {'n_clusters': 6}\n",
      "Best Score: -22.5333602519541\n"
     ]
    }
   ],
   "source": [
    "print(\"Best Parameters:\", best_params)\n",
    "print(\"Best Score:\", best_score)"
   ]
  },
  {
   "cell_type": "markdown",
   "metadata": {},
   "source": [
    "## Implementing K-means clustering"
   ]
  },
  {
   "cell_type": "code",
   "execution_count": 68,
   "metadata": {},
   "outputs": [
    {
     "data": {
      "text/html": [
       "<style>#sk-container-id-2 {color: black;background-color: white;}#sk-container-id-2 pre{padding: 0;}#sk-container-id-2 div.sk-toggleable {background-color: white;}#sk-container-id-2 label.sk-toggleable__label {cursor: pointer;display: block;width: 100%;margin-bottom: 0;padding: 0.3em;box-sizing: border-box;text-align: center;}#sk-container-id-2 label.sk-toggleable__label-arrow:before {content: \"▸\";float: left;margin-right: 0.25em;color: #696969;}#sk-container-id-2 label.sk-toggleable__label-arrow:hover:before {color: black;}#sk-container-id-2 div.sk-estimator:hover label.sk-toggleable__label-arrow:before {color: black;}#sk-container-id-2 div.sk-toggleable__content {max-height: 0;max-width: 0;overflow: hidden;text-align: left;background-color: #f0f8ff;}#sk-container-id-2 div.sk-toggleable__content pre {margin: 0.2em;color: black;border-radius: 0.25em;background-color: #f0f8ff;}#sk-container-id-2 input.sk-toggleable__control:checked~div.sk-toggleable__content {max-height: 200px;max-width: 100%;overflow: auto;}#sk-container-id-2 input.sk-toggleable__control:checked~label.sk-toggleable__label-arrow:before {content: \"▾\";}#sk-container-id-2 div.sk-estimator input.sk-toggleable__control:checked~label.sk-toggleable__label {background-color: #d4ebff;}#sk-container-id-2 div.sk-label input.sk-toggleable__control:checked~label.sk-toggleable__label {background-color: #d4ebff;}#sk-container-id-2 input.sk-hidden--visually {border: 0;clip: rect(1px 1px 1px 1px);clip: rect(1px, 1px, 1px, 1px);height: 1px;margin: -1px;overflow: hidden;padding: 0;position: absolute;width: 1px;}#sk-container-id-2 div.sk-estimator {font-family: monospace;background-color: #f0f8ff;border: 1px dotted black;border-radius: 0.25em;box-sizing: border-box;margin-bottom: 0.5em;}#sk-container-id-2 div.sk-estimator:hover {background-color: #d4ebff;}#sk-container-id-2 div.sk-parallel-item::after {content: \"\";width: 100%;border-bottom: 1px solid gray;flex-grow: 1;}#sk-container-id-2 div.sk-label:hover label.sk-toggleable__label {background-color: #d4ebff;}#sk-container-id-2 div.sk-serial::before {content: \"\";position: absolute;border-left: 1px solid gray;box-sizing: border-box;top: 0;bottom: 0;left: 50%;z-index: 0;}#sk-container-id-2 div.sk-serial {display: flex;flex-direction: column;align-items: center;background-color: white;padding-right: 0.2em;padding-left: 0.2em;position: relative;}#sk-container-id-2 div.sk-item {position: relative;z-index: 1;}#sk-container-id-2 div.sk-parallel {display: flex;align-items: stretch;justify-content: center;background-color: white;position: relative;}#sk-container-id-2 div.sk-item::before, #sk-container-id-2 div.sk-parallel-item::before {content: \"\";position: absolute;border-left: 1px solid gray;box-sizing: border-box;top: 0;bottom: 0;left: 50%;z-index: -1;}#sk-container-id-2 div.sk-parallel-item {display: flex;flex-direction: column;z-index: 1;position: relative;background-color: white;}#sk-container-id-2 div.sk-parallel-item:first-child::after {align-self: flex-end;width: 50%;}#sk-container-id-2 div.sk-parallel-item:last-child::after {align-self: flex-start;width: 50%;}#sk-container-id-2 div.sk-parallel-item:only-child::after {width: 0;}#sk-container-id-2 div.sk-dashed-wrapped {border: 1px dashed gray;margin: 0 0.4em 0.5em 0.4em;box-sizing: border-box;padding-bottom: 0.4em;background-color: white;}#sk-container-id-2 div.sk-label label {font-family: monospace;font-weight: bold;display: inline-block;line-height: 1.2em;}#sk-container-id-2 div.sk-label-container {text-align: center;}#sk-container-id-2 div.sk-container {/* jupyter's `normalize.less` sets `[hidden] { display: none; }` but bootstrap.min.css set `[hidden] { display: none !important; }` so we also need the `!important` here to be able to override the default hidden behavior on the sphinx rendered scikit-learn.org. See: https://github.com/scikit-learn/scikit-learn/issues/21755 */display: inline-block !important;position: relative;}#sk-container-id-2 div.sk-text-repr-fallback {display: none;}</style><div id=\"sk-container-id-2\" class=\"sk-top-container\"><div class=\"sk-text-repr-fallback\"><pre>KMeans(n_clusters=3, n_init=&#x27;auto&#x27;, random_state=42)</pre><b>In a Jupyter environment, please rerun this cell to show the HTML representation or trust the notebook. <br />On GitHub, the HTML representation is unable to render, please try loading this page with nbviewer.org.</b></div><div class=\"sk-container\" hidden><div class=\"sk-item\"><div class=\"sk-estimator sk-toggleable\"><input class=\"sk-toggleable__control sk-hidden--visually\" id=\"sk-estimator-id-2\" type=\"checkbox\" checked><label for=\"sk-estimator-id-2\" class=\"sk-toggleable__label sk-toggleable__label-arrow\">KMeans</label><div class=\"sk-toggleable__content\"><pre>KMeans(n_clusters=3, n_init=&#x27;auto&#x27;, random_state=42)</pre></div></div></div></div></div>"
      ],
      "text/plain": [
       "KMeans(n_clusters=3, n_init='auto', random_state=42)"
      ]
     },
     "execution_count": 68,
     "metadata": {},
     "output_type": "execute_result"
    }
   ],
   "source": [
    "# Perform k-means clustering\n",
    "k = 3 # Number of clusters\n",
    "kmeans = KMeans(n_clusters=k,n_init='auto', random_state=42)\n",
    "kmeans.fit(X)"
   ]
  },
  {
   "cell_type": "markdown",
   "metadata": {},
   "source": [
    "## Extracting labels and cluster centers"
   ]
  },
  {
   "cell_type": "code",
   "execution_count": 69,
   "metadata": {},
   "outputs": [],
   "source": [
    "# Get the cluster labels and centroids\n",
    "labels = kmeans.labels_\n",
    "centroids = kmeans.cluster_centers_\n",
    "\n",
    "# Add the cluster labels to the DataFrame\n",
    "df_class['Cluster'] = labels\n"
   ]
  },
  {
   "cell_type": "code",
   "execution_count": 70,
   "metadata": {},
   "outputs": [
    {
     "data": {
      "text/html": [
       "<div>\n",
       "<style scoped>\n",
       "    .dataframe tbody tr th:only-of-type {\n",
       "        vertical-align: middle;\n",
       "    }\n",
       "\n",
       "    .dataframe tbody tr th {\n",
       "        vertical-align: top;\n",
       "    }\n",
       "\n",
       "    .dataframe thead th {\n",
       "        text-align: right;\n",
       "    }\n",
       "</style>\n",
       "<table border=\"1\" class=\"dataframe\">\n",
       "  <thead>\n",
       "    <tr style=\"text-align: right;\">\n",
       "      <th></th>\n",
       "      <th>Name</th>\n",
       "      <th>Branch</th>\n",
       "      <th>Semester</th>\n",
       "      <th>Resourse Person</th>\n",
       "      <th>Content Quality</th>\n",
       "      <th>Effeciveness</th>\n",
       "      <th>Expertise</th>\n",
       "      <th>Relevance</th>\n",
       "      <th>Overall Organization</th>\n",
       "      <th>Cluster</th>\n",
       "    </tr>\n",
       "  </thead>\n",
       "  <tbody>\n",
       "    <tr>\n",
       "      <th>0</th>\n",
       "      <td>Aaron James Koshy</td>\n",
       "      <td>CSE</td>\n",
       "      <td>Sixth</td>\n",
       "      <td>Dr. Anju Pratap</td>\n",
       "      <td>5</td>\n",
       "      <td>5</td>\n",
       "      <td>5</td>\n",
       "      <td>5</td>\n",
       "      <td>5</td>\n",
       "      <td>0</td>\n",
       "    </tr>\n",
       "    <tr>\n",
       "      <th>1</th>\n",
       "      <td>Rahul Biju</td>\n",
       "      <td>CSE</td>\n",
       "      <td>Sixth</td>\n",
       "      <td>Dr. Anju Pratap</td>\n",
       "      <td>5</td>\n",
       "      <td>5</td>\n",
       "      <td>5</td>\n",
       "      <td>5</td>\n",
       "      <td>4</td>\n",
       "      <td>0</td>\n",
       "    </tr>\n",
       "    <tr>\n",
       "      <th>2</th>\n",
       "      <td>Sarang kj</td>\n",
       "      <td>ECE</td>\n",
       "      <td>Fourth</td>\n",
       "      <td>Dr. Anju Pratap</td>\n",
       "      <td>4</td>\n",
       "      <td>4</td>\n",
       "      <td>4</td>\n",
       "      <td>4</td>\n",
       "      <td>4</td>\n",
       "      <td>1</td>\n",
       "    </tr>\n",
       "    <tr>\n",
       "      <th>3</th>\n",
       "      <td>Leya Kurian</td>\n",
       "      <td>CSE</td>\n",
       "      <td>Sixth</td>\n",
       "      <td>Dr. Anju Pratap</td>\n",
       "      <td>5</td>\n",
       "      <td>5</td>\n",
       "      <td>5</td>\n",
       "      <td>5</td>\n",
       "      <td>5</td>\n",
       "      <td>0</td>\n",
       "    </tr>\n",
       "    <tr>\n",
       "      <th>4</th>\n",
       "      <td>Muhamed Adil</td>\n",
       "      <td>CSE</td>\n",
       "      <td>Sixth</td>\n",
       "      <td>Dr. Anju Pratap</td>\n",
       "      <td>5</td>\n",
       "      <td>5</td>\n",
       "      <td>5</td>\n",
       "      <td>5</td>\n",
       "      <td>5</td>\n",
       "      <td>0</td>\n",
       "    </tr>\n",
       "  </tbody>\n",
       "</table>\n",
       "</div>"
      ],
      "text/plain": [
       "                 Name Branch Semester  Resourse Person  Content Quality   \n",
       "0  Aaron James Koshy     CSE    Sixth  Dr. Anju Pratap                5  \\\n",
       "1          Rahul Biju    CSE    Sixth  Dr. Anju Pratap                5   \n",
       "2          Sarang kj     ECE   Fourth  Dr. Anju Pratap                4   \n",
       "3         Leya Kurian    CSE    Sixth  Dr. Anju Pratap                5   \n",
       "4       Muhamed Adil     CSE    Sixth  Dr. Anju Pratap                5   \n",
       "\n",
       "   Effeciveness  Expertise  Relevance  Overall Organization  Cluster  \n",
       "0             5          5          5                     5        0  \n",
       "1             5          5          5                     4        0  \n",
       "2             4          4          4                     4        1  \n",
       "3             5          5          5                     5        0  \n",
       "4             5          5          5                     5        0  "
      ]
     },
     "execution_count": 70,
     "metadata": {},
     "output_type": "execute_result"
    }
   ],
   "source": [
    "df_class.head()"
   ]
  },
  {
   "cell_type": "markdown",
   "metadata": {},
   "source": [
    "## Visualizing the clustering using first two features"
   ]
  },
  {
   "cell_type": "code",
   "execution_count": 74,
   "metadata": {},
   "outputs": [
    {
     "data": {
      "image/png": "[encoded data removed]",
      "text/plain": [
       "<Figure size 640x480 with 1 Axes>"
      ]
     },
     "metadata": {},
     "output_type": "display_data"
    }
   ],
   "source": [
    "# Visualize the clusters\n",
    "plt.scatter(X[:, 1], X[:, 2], c=labels, cmap='viridis')\n",
    "plt.scatter(centroids[:,1], centroids[:, 2], marker='X', s=200, c='red')\n",
    "plt.xlabel(input_col[1])\n",
    "plt.ylabel(input_col[2])\n",
    "plt.title('K-means Clustering')\n",
    "plt.show()"
   ]
  },
  {
   "cell_type": "markdown",
   "metadata": {
    "id": "XeS10hjzU0Js"
   },
   "source": [
    "## Perception on content quality over Clustors\n"
   ]
  },
  {
   "cell_type": "code",
   "execution_count": 72,
   "metadata": {
    "colab": {
     "base_uri": "https://localhost:8080/",
     "height": 238
    },
    "id": "0gprLA87SSbB",
    "outputId": "6ad39993-345c-4fde-9923-abb50315f26b"
   },
   "outputs": [
    {
     "data": {
      "text/html": [
       "<div>\n",
       "<style scoped>\n",
       "    .dataframe tbody tr th:only-of-type {\n",
       "        vertical-align: middle;\n",
       "    }\n",
       "\n",
       "    .dataframe tbody tr th {\n",
       "        vertical-align: top;\n",
       "    }\n",
       "\n",
       "    .dataframe thead th {\n",
       "        text-align: right;\n",
       "    }\n",
       "</style>\n",
       "<table border=\"1\" class=\"dataframe\">\n",
       "  <thead>\n",
       "    <tr style=\"text-align: right;\">\n",
       "      <th>Cluster</th>\n",
       "      <th>0</th>\n",
       "      <th>1</th>\n",
       "      <th>2</th>\n",
       "    </tr>\n",
       "    <tr>\n",
       "      <th>Content Quality</th>\n",
       "      <th></th>\n",
       "      <th></th>\n",
       "      <th></th>\n",
       "    </tr>\n",
       "  </thead>\n",
       "  <tbody>\n",
       "    <tr>\n",
       "      <th>3</th>\n",
       "      <td>0</td>\n",
       "      <td>7</td>\n",
       "      <td>11</td>\n",
       "    </tr>\n",
       "    <tr>\n",
       "      <th>4</th>\n",
       "      <td>18</td>\n",
       "      <td>67</td>\n",
       "      <td>1</td>\n",
       "    </tr>\n",
       "    <tr>\n",
       "      <th>5</th>\n",
       "      <td>95</td>\n",
       "      <td>8</td>\n",
       "      <td>0</td>\n",
       "    </tr>\n",
       "  </tbody>\n",
       "</table>\n",
       "</div>"
      ],
      "text/plain": [
       "Cluster           0   1   2\n",
       "Content Quality            \n",
       "3                 0   7  11\n",
       "4                18  67   1\n",
       "5                95   8   0"
      ]
     },
     "execution_count": 72,
     "metadata": {},
     "output_type": "execute_result"
    }
   ],
   "source": [
    "pd.crosstab(columns = df_class['Cluster'], index = df_class['Content Quality'])"
   ]
  },
  {
   "cell_type": "code",
   "execution_count": null,
   "metadata": {},
   "outputs": [],
   "source": [
    "large_to_small = df_class.groupby('Orange').size().sort_values().index[::-1]\n",
    "ax = plt.subplot(1,2,1)\n",
    "ax = sns.countplot(x='Orange', data=df_class, order=large_to_small)\n",
    "plt.xticks(rotation=90)\n",
    "#ax.bar_label(ax.containers[0])\n",
    "plt.title(\"Likeness of Orange\", fontsize=20,color = 'Brown',pad=20)\n",
    "ax =plt.subplot(1,2,2)\n",
    "ax=df_class['Orange'].value_counts().plot.pie(autopct='%1.2f%%',shadow=True);\n",
    "ax.set_title(label = \"Orange\", fontsize = 20,color='Brown',pad=20);"
   ]
  },
  {
   "cell_type": "markdown",
   "metadata": {},
   "source": [
    "## Grapes\n",
    "\n"
   ]
  },
  {
   "cell_type": "code",
   "execution_count": null,
   "metadata": {},
   "outputs": [],
   "source": [
    "## creating a percentage analysis of gender-wise distribution of data\n",
    "round(df_class[\"Grapes\"].value_counts(normalize=True)*100,2)"
   ]
  },
  {
   "cell_type": "code",
   "execution_count": null,
   "metadata": {},
   "outputs": [],
   "source": [
    "large_to_small = df_class.groupby('Grapes').size().sort_values().index[::-1]\n",
    "ax = plt.subplot(1,2,1)\n",
    "ax = sns.countplot(x='Grapes', data=df_class, order=large_to_small)\n",
    "plt.xticks(rotation=90)\n",
    "#ax.bar_label(ax.containers[0])\n",
    "plt.title(\"Likeness of Grapes\", fontsize=20,color = 'Brown',pad=20)\n",
    "ax =plt.subplot(1,2,2)\n",
    "ax=df_class['Grapes'].value_counts().plot.pie(autopct='%1.2f%%',shadow=True);\n",
    "ax.set_title(label = \"Grapes\", fontsize = 20,color='Brown',pad=20);"
   ]
  },
  {
   "cell_type": "code",
   "execution_count": null,
   "metadata": {},
   "outputs": [],
   "source": [
    "round(pd.crosstab(columns = df_class['Age_group'], index = df_class['Grapes'],normalize=True)*100,2)"
   ]
  },
  {
   "cell_type": "markdown",
   "metadata": {},
   "source": [
    "## Fruit type -Banana"
   ]
  },
  {
   "cell_type": "code",
   "execution_count": null,
   "metadata": {},
   "outputs": [],
   "source": [
    "## creating a percentage analysis of gender-wise distribution of data\n",
    "round(df_class[\"Banana\"].value_counts(normalize=True)*100,2)"
   ]
  },
  {
   "cell_type": "code",
   "execution_count": null,
   "metadata": {},
   "outputs": [],
   "source": [
    "large_to_small = df_class.groupby('Banana').size().sort_values().index[::-1]\n",
    "ax = plt.subplot(1,2,1)\n",
    "ax = sns.countplot(x='Banana', data=df_class, order=large_to_small)\n",
    "plt.xticks(rotation=90)\n",
    "#ax.bar_label(ax.containers[0])\n",
    "plt.title(\"Likeness of Banana\", fontsize=20,color = 'Brown',pad=20)\n",
    "ax =plt.subplot(1,2,2)\n",
    "ax=df_class['Banana'].value_counts().plot.pie(autopct='%1.2f%%',shadow=True);\n",
    "ax.set_title(label = \"Banana\", fontsize = 20,color='Brown',pad=20);"
   ]
  },
  {
   "cell_type": "code",
   "execution_count": null,
   "metadata": {},
   "outputs": [],
   "source": [
    "round(pd.crosstab(columns = df_class['Age_group'], index = df_class['Banana'],normalize=True)*100,2)"
   ]
  },
  {
   "cell_type": "code",
   "execution_count": null,
   "metadata": {},
   "outputs": [],
   "source": [
    "round(pd.crosstab(columns = df_class['Gender'], index = df_class['Banana'],normalize=True)*100,2)"
   ]
  },
  {
   "cell_type": "markdown",
   "metadata": {},
   "source": []
  },
  {
   "cell_type": "markdown",
   "metadata": {},
   "source": [
    "## Bring all the analysis into one figure"
   ]
  },
  {
   "cell_type": "code",
   "execution_count": null,
   "metadata": {},
   "outputs": [],
   "source": [
    "df_long=pd.melt(df_class, id_vars=[\"Gender\",\"Age\",\"Weight\",\"Height\",\"Age_group\"], value_vars=[\"Orange\", \"Grapes\", \"Banana\",\"Apple\",\"Mango\",\"Cherry\"], var_name=\"Fruit\", value_name=\"Rating\", ignore_index=False)"
   ]
  },
  {
   "cell_type": "markdown",
   "metadata": {},
   "source": [
    "## Comparison of Fruit preference"
   ]
  },
  {
   "cell_type": "code",
   "execution_count": null,
   "metadata": {},
   "outputs": [],
   "source": [
    "df_long['Rating'].value_counts(ascending=False)"
   ]
  },
  {
   "cell_type": "code",
   "execution_count": null,
   "metadata": {},
   "outputs": [],
   "source": [
    "round(pd.crosstab(columns = df_long['Fruit'], index = df_long['Rating'],normalize=True)*100,2)"
   ]
  },
  {
   "cell_type": "code",
   "execution_count": null,
   "metadata": {},
   "outputs": [],
   "source": [
    "df_long.describe().style.background_gradient(cmap='rainbow').set_precision(3)"
   ]
  },
  {
   "cell_type": "code",
   "execution_count": null,
   "metadata": {},
   "outputs": [],
   "source": [
    "ax = plt.figure(figsize = (15,16))\n",
    "ax = plt.subplot(2,1,1)\n",
    "ax = sns.countplot(data=df_long, y='Fruit', hue='Rating',dodge=True)\n",
    "#ax.bar_label(ax.containers[0])\n",
    "plt.title(\"Fruit Type\", fontsize=20,color = 'Brown',pad=20)\n",
    "plt.legend(loc='upper right')\n",
    "plt.xticks(rotation=65)\n",
    "plt.tight_layout()\n",
    "\n",
    "ax =plt.subplot(2,1,2)\n",
    "ax=df_long['Rating'].value_counts().plot.pie(explode=[0.1, 0.1,0.1,0.1, 0.1],autopct='%1.2f%%',shadow=True);\n",
    "plt.tight_layout()\n",
    "plt.axis('off');"
   ]
  },
  {
   "cell_type": "markdown",
   "metadata": {},
   "source": [
    "## Generalisation of findings using inferential statistics"
   ]
  },
  {
   "cell_type": "code",
   "execution_count": null,
   "metadata": {},
   "outputs": [],
   "source": [
    "!pip install researchpy"
   ]
  },
  {
   "cell_type": "code",
   "execution_count": null,
   "metadata": {},
   "outputs": [],
   "source": [
    "# libraries for inferential analysis\n",
    "import researchpy as rp\n",
    "import scipy.stats as stats\n",
    "import statsmodels.api as sm"
   ]
  },
  {
   "cell_type": "markdown",
   "metadata": {},
   "source": [
    "1. **Significance of gender over the fruit rating categories**\n",
    "\n",
    "Here we starts with the assumtion that;\n",
    "\n",
    "$H_0$: Gender has no significance impact on the fruit rating level\n",
    "\n",
    "$H_1$: Gender has a significant impact on the fruit rating level\n",
    "\n",
    "Note that here both gender and fruit rating are categorical variable. So a possibility for cross tabulation is here. Hence we can check the homogenity of distribution using a $\\chi^2$ test."
   ]
  },
  {
   "cell_type": "code",
   "execution_count": null,
   "metadata": {},
   "outputs": [],
   "source": [
    "# showing a summary of category wise distribution\n",
    "rp.summary_cat(df_long[[\"Gender\", \"Rating\"]])"
   ]
  },
  {
   "cell_type": "code",
   "execution_count": null,
   "metadata": {},
   "outputs": [],
   "source": [
    "# creating a contigency table\n",
    "ct1=pd.crosstab(index = df_long['Gender'], columns = df_long['Rating'])"
   ]
  },
  {
   "cell_type": "code",
   "execution_count": null,
   "metadata": {},
   "outputs": [],
   "source": [
    "ct1"
   ]
  },
  {
   "cell_type": "markdown",
   "metadata": {},
   "source": [
    "Now to pass this contingency table to the `scipy.stats` method. The output isn't the best formatted, but all the information is there. The information is returned within a tuple where the first value is the $\\chi^2$  test static, the second value is the p-value, and the third number is the degrees of freedom. An array is also returned which contains the expected cell counts."
   ]
  },
  {
   "cell_type": "code",
   "execution_count": null,
   "metadata": {},
   "outputs": [],
   "source": [
    "stats.chi2_contingency(ct1)\n"
   ]
  },
  {
   "cell_type": "markdown",
   "metadata": {},
   "source": [
    ">**Interpretation:** There is a relationship between gender and the fruit rating level, $\\chi^2(4) = 11.02, p< 0.05$."
   ]
  },
  {
   "cell_type": "markdown",
   "metadata": {
    "id": "G1I6nr1Fe9jj"
   },
   "source": [
    "### Using `Researchpy` library\n",
    "\n",
    "Now to conduct the $\\chi^2$ test of independence using `Researchpy`. The method that needs to be used is `researchpy.crosstab`.\n",
    "\n",
    "By default, the method returns the requested objects in a tuple that is just as ugly as `scipy.stats`. For cleaner output, one can assign each requested object from the tuple to another object and then those separately. The expected cell counts will be requested and used later while checking the assumptions for this statistical test. Additionally, will request the crosstabulation be returned with the cell percentage instead of the cell count."
   ]
  },
  {
   "cell_type": "code",
   "execution_count": null,
   "metadata": {
    "colab": {
     "base_uri": "https://localhost:8080/",
     "height": 206
    },
    "id": "NoWmXSkSfOj_",
    "outputId": "efe63aa8-7e98-4f3e-dd7e-6563cc63ced3"
   },
   "outputs": [],
   "source": [
    "crosstab, test_results, expected = rp.crosstab(df_long[\"Gender\"], df_long[\"Rating\"],\n",
    "                                               test= \"chi-square\",\n",
    "                                               expected_freqs= True,\n",
    "                                               prop= \"cell\")\n",
    "\n",
    "crosstab"
   ]
  },
  {
   "cell_type": "code",
   "execution_count": null,
   "metadata": {
    "colab": {
     "base_uri": "https://localhost:8080/",
     "height": 143
    },
    "id": "plExuPdlfhRN",
    "outputId": "6506e522-1d79-4a5b-b7c6-28413f9f7adb"
   },
   "outputs": [],
   "source": [
    "test_results\n"
   ]
  },
  {
   "cell_type": "markdown",
   "metadata": {
    "id": "d2bHCsCmfvqN"
   },
   "source": [
    "Since the Cramers' V is jist greater that 0.10, the test result is acceptable is just moderate. If it is greater than 0.25, then it is a strong result."
   ]
  },
  {
   "cell_type": "markdown",
   "metadata": {
    "id": "J0ifKrnggFZD"
   },
   "source": [
    "## ASSUMPTION CHECK\n",
    "Checking the assumptions for the $\\chi^2$ test of independence is easy. Let's recall what they are:\n",
    "\n",
    "- The two samples are independent\n",
    "\n",
    "- The variables were collected independently of each other, i.e. the answer from one variable was not dependent on the answer of the other\n",
    "\n",
    "- No expected cell count is = 0\n",
    "- No more than 20% of the cells have and expected cell count < 5\n",
    "\n",
    "The last two assumptions can be checked by looking at the expected frequency table."
   ]
  },
  {
   "cell_type": "code",
   "execution_count": null,
   "metadata": {
    "colab": {
     "base_uri": "https://localhost:8080/",
     "height": 175
    },
    "id": "ZP0_GsEbgTEO",
    "outputId": "2369c825-be40-456e-873d-68b5923d71fd"
   },
   "outputs": [],
   "source": [
    "expected\n"
   ]
  },
  {
   "cell_type": "markdown",
   "metadata": {
    "id": "lnaiYUWMg1aV"
   },
   "source": [
    "It can be seen that all the assumptions are met which indicates the statistical test results are reliable.\n",
    "\n"
   ]
  },
  {
   "cell_type": "markdown",
   "metadata": {
    "id": "vetK5M2nhC0A"
   },
   "source": [
    "## To assess the difference in the rating score over Gender"
   ]
  },
  {
   "cell_type": "code",
   "execution_count": null,
   "metadata": {
    "id": "EN8-GI7Zh2LL"
   },
   "outputs": [],
   "source": [
    "# transform rating vel to scores\n",
    "df_score=df_class\n",
    "# converting categorical rating to integers\n",
    "df_score[\"Orange\"]=df_score[\"Orange\"].map({'not at all': 1, 'if no other fruits available': 2,'some what':3,'seasonally':4,'my favorite':5 })\n",
    "df_score[\"Apple\"]=df_score[\"Apple\"].map({'not at all': 1, 'if no other fruits available': 2,'some what':3,'seasonally':4,'my favorite':5 })\n",
    "df_score[\"Banana\"]=df_score[\"Banana\"].map({'not at all': 1, 'if no other fruits available': 2,'some what':3,'seasonally':4,'my favorite':5 })\n",
    "df_score[\"Cherry\"]=df_score[\"Cherry\"].map({'not at all': 1, 'if no other fruits available': 2,'some what':3,'seasonally':4,'my favorite':5 })\n",
    "df_score[\"Grapes\"]=df_score[\"Grapes\"].map({'not at all': 1, 'if no other fruits available': 2,'some what':3,'seasonally':4,'my favorite':5 })\n",
    "df_score[\"Mango\"]=df_score[\"Mango\"].map({'not at all': 1, 'if no other fruits available': 2,'some what':3,'seasonally':4,'my favorite':5 })"
   ]
  },
  {
   "cell_type": "code",
   "execution_count": null,
   "metadata": {
    "id": "m4LP-k9jndjc"
   },
   "outputs": [],
   "source": [
    "#calculating total score per respondent\n",
    "df_score[\"Score\"]=df_score[\"Orange\"]+df_score[\"Apple\"]+df_score[\"Banana\"]+df_score[\"Cherry\"]+df_score[\"Grapes\"]+df_score[\"Mango\"]"
   ]
  },
  {
   "cell_type": "code",
   "execution_count": null,
   "metadata": {
    "colab": {
     "base_uri": "https://localhost:8080/",
     "height": 206
    },
    "id": "lp2s8gTJj6ol",
    "outputId": "0aa19a87-08c1-4834-e7c1-798b27f67b4b"
   },
   "outputs": [],
   "source": [
    "df_score.head()"
   ]
  },
  {
   "cell_type": "code",
   "execution_count": null,
   "metadata": {
    "id": "GHDOBxLLoUI4"
   },
   "outputs": [],
   "source": [
    "## melting dataframe\n",
    "df_long1=pd.melt(df_class, id_vars=[\"Gender\",\"Age\",\"Weight\",\"Height\",\"Age_group\",\"Score\"], value_vars=[\"Orange\", \"Grapes\", \"Banana\",\"Apple\",\"Mango\",\"Cherry\"], var_name=\"Fruit\", value_name=\"Rating\", ignore_index=False)"
   ]
  },
  {
   "cell_type": "code",
   "execution_count": null,
   "metadata": {
    "colab": {
     "base_uri": "https://localhost:8080/",
     "height": 206
    },
    "id": "e98ZQlmPoT85",
    "outputId": "daa22f9c-c07c-409b-8c6f-7a5c0c147a80"
   },
   "outputs": [],
   "source": [
    "df_long1.head()"
   ]
  },
  {
   "cell_type": "code",
   "execution_count": null,
   "metadata": {
    "colab": {
     "base_uri": "https://localhost:8080/",
     "height": 300
    },
    "id": "m9rWflvTrMEA",
    "outputId": "79dabde8-2a77-409a-8ec0-4245eb7de840"
   },
   "outputs": [],
   "source": [
    "df_long1.describe()"
   ]
  },
  {
   "cell_type": "code",
   "execution_count": null,
   "metadata": {
    "colab": {
     "base_uri": "https://localhost:8080/",
     "height": 115
    },
    "id": "dxWgus9ouVEE",
    "outputId": "455329ce-ae1e-4061-dc2d-bff12687385c"
   },
   "outputs": [],
   "source": [
    "rp.summary_cont(df_long1['Score'])\n"
   ]
  },
  {
   "cell_type": "code",
   "execution_count": null,
   "metadata": {
    "colab": {
     "base_uri": "https://localhost:8080/",
     "height": 178
    },
    "id": "1MH3ZYFYoIR4",
    "outputId": "b7c80f7e-5446-4e58-86d1-d1d61bb49a64"
   },
   "outputs": [],
   "source": [
    "## summary\n",
    "rp.summary_cont(df_long1['Score'].groupby(df_long1['Gender']))\n"
   ]
  },
  {
   "cell_type": "markdown",
   "metadata": {
    "id": "jZRhiTkpylTb"
   },
   "source": [
    "## Comparison of fruit rating score over gender using boxplot"
   ]
  },
  {
   "cell_type": "code",
   "execution_count": null,
   "metadata": {
    "colab": {
     "base_uri": "https://localhost:8080/",
     "height": 279
    },
    "id": "a534oNVmyrvX",
    "outputId": "725ea449-30c5-42eb-c133-7b2a48876d88"
   },
   "outputs": [],
   "source": [
    "import matplotlib.pyplot as plt\n",
    "import seaborn as sns\n",
    "ax = sns.boxplot(x='Gender', y='Score', data=df_long1, color='#99c2a2')\n",
    "ax = sns.stripplot(x=\"Gender\", y=\"Score\", data=df_long1, color='#7d0013')\n",
    "plt.show()"
   ]
  },
  {
   "cell_type": "markdown",
   "metadata": {
    "id": "7NnAPG4e1YcG"
   },
   "source": [
    "## Method-1 Using t-test\n",
    "Hypothesis are:\n",
    "\n",
    "$H_0$: There is no difference in the mean score over gender\n",
    "\n",
    "$H_1$: There is significant difference in the mean score over gender"
   ]
  },
  {
   "cell_type": "code",
   "execution_count": null,
   "metadata": {
    "colab": {
     "base_uri": "https://localhost:8080/"
    },
    "id": "aqBI0JKb1b7X",
    "outputId": "b1ec3a27-1416-4160-ed4f-6a5f45fe4343"
   },
   "outputs": [],
   "source": [
    "summary, results = rp.ttest(group1= df_long1['Score'][df_long1['Gender'] == 'Male'], group1_name= \"Male\",\n",
    "                            group2= df_long1['Score'][df_long1['Gender'] == 'Female'], group2_name= \"Female\")\n",
    "print(summary)"
   ]
  },
  {
   "cell_type": "code",
   "execution_count": null,
   "metadata": {
    "colab": {
     "base_uri": "https://localhost:8080/"
    },
    "id": "7blHnwWl2A3H",
    "outputId": "200d592f-0536-45c5-d4db-fb623a54b952"
   },
   "outputs": [],
   "source": [
    "print(results)"
   ]
  },
  {
   "cell_type": "markdown",
   "metadata": {
    "id": "oxsZaKERud9r"
   },
   "source": [
    "## ONE-WAY ANOVA USING `scipy.stat`\n",
    "\n",
    "Conducting an one-way ANOVA using `scipy.stats` is quick and only returns the restuling F-statistic and p-value of the test."
   ]
  },
  {
   "cell_type": "code",
   "execution_count": null,
   "metadata": {
    "colab": {
     "base_uri": "https://localhost:8080/"
    },
    "id": "J_m5-zviuSTc",
    "outputId": "8f32c4af-d759-4c7c-86f1-ab3aabf12cf4"
   },
   "outputs": [],
   "source": [
    "stats.f_oneway(df_long1['Score'][df_long1['Gender'] == 'Male'],\n",
    "               df_long1['Score'][df_long1['Gender'] == 'Female'])"
   ]
  },
  {
   "cell_type": "markdown",
   "metadata": {
    "id": "NBXHffHZu813"
   },
   "source": [
    ">**Interpretation:** Since p-value is less than 0.05, the null hypothesis that there is no significant difference in the fruit rating score over gender."
   ]
  },
  {
   "cell_type": "markdown",
   "metadata": {
    "id": "eMiV-4-ovJk8"
   },
   "source": [
    "## Using `statsmodels` library\n",
    "\n",
    "This method conducts a one-way ANOVA in two steps:\n",
    "\n",
    "- Fit the model using an estimation method,\n",
    "The default estimation method in most statistical software packages is ordinary least squares.\n",
    "- Pass fitted model into ANOVA method to produce ANOVA table"
   ]
  },
  {
   "cell_type": "code",
   "execution_count": null,
   "metadata": {
    "colab": {
     "base_uri": "https://localhost:8080/",
     "height": 112
    },
    "id": "edjD2TxhrjfN",
    "outputId": "8470e164-2104-4e8b-8eb6-88511c154820"
   },
   "outputs": [],
   "source": [
    "from statsmodels.formula.api import ols\n",
    "\n",
    "model = ols('Score ~ C(Gender)', data=df_long1).fit()\n",
    "aov_table = sm.stats.anova_lm(model, typ=2)\n",
    "aov_table"
   ]
  },
  {
   "cell_type": "markdown",
   "metadata": {
    "id": "eiN_CS5EwM_P"
   },
   "source": [
    "This table provides all the information one needs in order to interprete if the results are significant; however, it does not provide any effect size measures to tell if the statistical significance is meaningful. The function below calculates eta-squared ($\\eta^2$) and omega-squared ($\\omega^2$). A quick note, $\\eta^2$  is the exact same thing as $R^2$ except when coming from the ANOVA framework people call it $eta^2$; $\\omega^2$ is considered a better measure of effect size since it is unbiased in it's calculation by accounting for the degrees of freedom in the model.\n"
   ]
  },
  {
   "cell_type": "code",
   "execution_count": null,
   "metadata": {
    "colab": {
     "base_uri": "https://localhost:8080/",
     "height": 112
    },
    "id": "5R0EXk31wrg1",
    "outputId": "392d9b8c-6225-4dd3-b0c3-95e54f9148a9"
   },
   "outputs": [],
   "source": [
    "\"\"\"\n",
    "The function below was created specifically for the one-way ANOVA table results returned for Type II sum of squares\n",
    "\"\"\"\n",
    "\n",
    "def anova_table(aov):\n",
    "    aov['mean_sq'] = aov[:]['sum_sq']/aov[:]['df']\n",
    "\n",
    "    aov['eta_sq'] = aov[:-1]['sum_sq']/sum(aov['sum_sq'])\n",
    "\n",
    "    aov['omega_sq'] = (aov[:-1]['sum_sq']-(aov[:-1]['df']*aov['mean_sq'][-1]))/(sum(aov['sum_sq'])+aov['mean_sq'][-1])\n",
    "\n",
    "    cols = ['sum_sq', 'df', 'mean_sq', 'F', 'PR(>F)', 'eta_sq', 'omega_sq']\n",
    "    aov = aov[cols]\n",
    "    return aov\n",
    "\n",
    "anova_table(aov_table)"
   ]
  },
  {
   "cell_type": "markdown",
   "metadata": {
    "id": "gPVhADTTw_ws"
   },
   "source": [
    ">**Interpretation:** There is a statistically significant difference between the groups and their effects the libido, F= 21.64, p-value= 0.0, with an overall small effect, $\\omega^2$ = 0.024.\n",
    "\n",
    "In order to tell which groups differed significantly, post-hoc tests need to be conducted. Before one goes through that work, the assumptions should be checked first in case any modifications need to be made to the model."
   ]
  },
  {
   "cell_type": "code",
   "execution_count": null,
   "metadata": {
    "colab": {
     "base_uri": "https://localhost:8080/"
    },
    "id": "AHabj-s9xYTm",
    "outputId": "a1d4228a-b8ca-4b4f-a592-e0549120f050"
   },
   "outputs": [],
   "source": [
    "## normality of residuals\n",
    "stats.shapiro(model.resid)"
   ]
  },
  {
   "cell_type": "code",
   "execution_count": null,
   "metadata": {
    "colab": {
     "base_uri": "https://localhost:8080/",
     "height": 627
    },
    "id": "o6K9mTggxmpA",
    "outputId": "ab5fef67-71f0-4593-b8b5-9754b9c5b6f7"
   },
   "outputs": [],
   "source": [
    "## visualization\n",
    "\n",
    "fig = plt.figure(figsize= (10, 10))\n",
    "ax = fig.add_subplot(111)\n",
    "\n",
    "normality_plot, stat = stats.probplot(model.resid, plot= plt, rvalue= True)\n",
    "ax.set_title(\"Probability plot of model residual's\", fontsize= 20)\n",
    "ax.set\n",
    "\n",
    "plt.show()"
   ]
  },
  {
   "cell_type": "markdown",
   "metadata": {
    "id": "JtFqzcjYyQXc"
   },
   "source": [
    ">**Conclusion**\n",
    "\n",
    "Even though the ANOVA test subtstantiate the reasoning that the gender wise difference in the fruit rating score is statistically significant, the sufficiant conditions are not satisfied. So a non-parametric ANOVA is strongly recommended. But the $\\chi^2$ test established the same result with  sufficiency condition checks."
   ]
  }
 ],
 "metadata": {
  "colab": {
   "provenance": []
  },
  "kernelspec": {
   "display_name": "Python 3 (Intel® oneAPI 2023.2)",
   "language": "python",
   "name": "c009-intel_distribution_of_python_3_oneapi-beta05-python"
  },
  "language_info": {
   "codemirror_mode": {
    "name": "ipython",
    "version": 3
   },
   "file_extension": ".py",
   "mimetype": "text/x-python",
   "name": "python",
   "nbconvert_exporter": "python",
   "pygments_lexer": "ipython3",
   "version": "3.9.16"
  }
 },
 "nbformat": 4,
 "nbformat_minor": 4
}
