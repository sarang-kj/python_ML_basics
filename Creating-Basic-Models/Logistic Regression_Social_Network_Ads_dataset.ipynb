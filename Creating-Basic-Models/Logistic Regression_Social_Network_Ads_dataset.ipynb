{
 "cells": [
  {
   "cell_type": "markdown",
   "id": "b2b4ee18",
   "metadata": {
    "id": "b2b4ee18"
   },
   "source": [
    "# Logistic Regression Exercises"
   ]
  },
  {
   "cell_type": "markdown",
   "id": "8c7167d8",
   "metadata": {
    "id": "8c7167d8"
   },
   "source": [
    "### Let's load the data and understand it"
   ]
  },
  {
   "cell_type": "code",
   "execution_count": null,
   "id": "slxkUazngmWq",
   "metadata": {
    "id": "slxkUazngmWq"
   },
   "outputs": [],
   "source": []
  },
  {
   "cell_type": "code",
   "execution_count": 10,
   "id": "28Nl3rM7eYlv",
   "metadata": {
    "colab": {
     "base_uri": "https://localhost:8080/"
    },
    "executionInfo": {
     "elapsed": 3674,
     "status": "ok",
     "timestamp": 1708319835594,
     "user": {
      "displayName": "Veena Rajesh",
      "userId": "15771821035859620097"
     },
     "user_tz": -330
    },
    "id": "28Nl3rM7eYlv",
    "outputId": "1cc21da9-780a-438a-e274-92b48c35a2c3"
   },
   "outputs": [
    {
     "name": "stdout",
     "output_type": "stream",
     "text": [
      "    User ID  Gender  Age  EstimatedSalary  Purchased\n",
      "0  15624510    Male   19            19000          0\n",
      "1  15810944    Male   35            20000          0\n",
      "2  15668575  Female   26            43000          0\n",
      "3  15603246  Female   27            57000          0\n",
      "4  15804002    Male   19            76000          0\n"
     ]
    }
   ],
   "source": [
    "# Specify the path to your CSV file\n",
    "csv_file_path = 'Social_Network_Ads.csv'\n",
    "\n",
    "# Import necessary libraries\n",
    "import pandas as pd\n",
    "\n",
    "# Read the CSV file into a pandas DataFrame\n",
    "df = pd.read_csv(csv_file_path)\n",
    "\n",
    "# Now you can work with the DataFrame as needed\n",
    "print(df.head())"
   ]
  },
  {
   "cell_type": "code",
   "execution_count": 11,
   "id": "a0c9d056",
   "metadata": {
    "id": "a0c9d056"
   },
   "outputs": [],
   "source": [
    "# load data to a new dataframe\n",
    "df = pd.read_csv(csv_file_path)"
   ]
  },
  {
   "cell_type": "code",
   "execution_count": 12,
   "id": "EPwpwNFt1G32",
   "metadata": {
    "id": "EPwpwNFt1G32"
   },
   "outputs": [],
   "source": [
    "x = df.iloc[:, [2, 3]].values\n",
    "y = df.iloc[:, 4].values"
   ]
  },
  {
   "cell_type": "markdown",
   "id": "07cc977c",
   "metadata": {
    "id": "07cc977c"
   },
   "source": [
    "### Now, we can prepare the data for the linear regression model"
   ]
  },
  {
   "cell_type": "markdown",
   "id": "37f818fe",
   "metadata": {
    "id": "37f818fe"
   },
   "source": [
    "### Now Machine Learning"
   ]
  },
  {
   "cell_type": "code",
   "execution_count": 13,
   "id": "6ace0f92",
   "metadata": {
    "id": "6ace0f92"
   },
   "outputs": [],
   "source": [
    "# import ML related packages of sklearn\n",
    "from sklearn.model_selection import train_test_split\n",
    "from sklearn.linear_model import LogisticRegression\n",
    "from sklearn import metrics\n",
    "import numpy as np\n"
   ]
  },
  {
   "cell_type": "code",
   "execution_count": 14,
   "id": "5f3cf1bb",
   "metadata": {
    "id": "5f3cf1bb"
   },
   "outputs": [
    {
     "data": {
      "text/plain": [
       "array([[    58, 144000],\n",
       "       [    59,  83000],\n",
       "       [    24,  55000],\n",
       "       [    26,  35000],\n",
       "       [    58,  38000]])"
      ]
     },
     "execution_count": 14,
     "metadata": {},
     "output_type": "execute_result"
    }
   ],
   "source": [
    "# split the data as train and test\n",
    "x_train, x_test, y_train, y_test = train_test_split(x, y, test_size=0.2, random_state=0)\n",
    "x_train[:5,:5]"
   ]
  },
  {
   "cell_type": "code",
   "execution_count": 43,
   "id": "AIdGu_Aa2m2O",
   "metadata": {
    "colab": {
     "base_uri": "https://localhost:8080/",
     "height": 75
    },
    "executionInfo": {
     "elapsed": 8,
     "status": "ok",
     "timestamp": 1708322408812,
     "user": {
      "displayName": "Veena Rajesh",
      "userId": "15771821035859620097"
     },
     "user_tz": -330
    },
    "id": "AIdGu_Aa2m2O",
    "outputId": "72482490-6b59-4ee0-cdda-f311c623d428"
   },
   "outputs": [
    {
     "data": {
      "text/plain": [
       "array([[-0.79895082,  0.49460758],\n",
       "       [-0.02126485, -0.57735906],\n",
       "       [-0.31289709,  0.14694273],\n",
       "       [-0.79895082,  0.26283101],\n",
       "       [-0.31289709, -0.57735906]])"
      ]
     },
     "execution_count": 43,
     "metadata": {},
     "output_type": "execute_result"
    }
   ],
   "source": [
    "# Feature Scaling\n",
    "from sklearn.preprocessing import StandardScaler\n",
    "sc = StandardScaler()\n",
    "x_train = sc.fit_transform(x_train)\n",
    "x_test = sc.transform(x_test)\n",
    "\n",
    "# Fitting Logistic Regression to the Training set\n",
    "from sklearn.linear_model import LogisticRegression\n",
    "classifier = LogisticRegression(random_state = 0)\n",
    "classifier.fit(x_train, y_train)\n",
    "x_train[:5,:5]\n",
    "x_test[:5,:5]"
   ]
  },
  {
   "cell_type": "code",
   "execution_count": 44,
   "id": "io4svEfh22E-",
   "metadata": {
    "id": "io4svEfh22E-"
   },
   "outputs": [],
   "source": [
    "# Predicting the Test set results\n",
    "y_pred = classifier.predict(x_test)\n",
    "\n",
    "# Making the Confusion Matrix\n",
    "from sklearn.metrics import confusion_matrix\n",
    "cm = confusion_matrix(y_test, y_pred)"
   ]
  },
  {
   "cell_type": "code",
   "execution_count": 45,
   "id": "ne0vS_3b4TG5",
   "metadata": {
    "colab": {
     "base_uri": "https://localhost:8080/"
    },
    "executionInfo": {
     "elapsed": 385,
     "status": "ok",
     "timestamp": 1708322440489,
     "user": {
      "displayName": "Veena Rajesh",
      "userId": "15771821035859620097"
     },
     "user_tz": -330
    },
    "id": "ne0vS_3b4TG5",
    "outputId": "fb44a4ed-a263-482c-c0fa-b1ff0ca1028a"
   },
   "outputs": [
    {
     "name": "stdout",
     "output_type": "stream",
     "text": [
      "Accuracy: 0.925\n",
      "Precision: 0.9444444444444444\n",
      "Recall: 0.7727272727272727\n"
     ]
    }
   ],
   "source": [
    "# Evaluate the performance\n",
    "accuracy = metrics.accuracy_score(y_test, y_pred)\n",
    "precision = metrics.precision_score(y_test, y_pred)\n",
    "recall = metrics.recall_score(y_test, y_pred)\n",
    "\n",
    "print(\"Accuracy:\", accuracy)\n",
    "print(\"Precision:\", precision)\n",
    "print(\"Recall:\", recall)"
   ]
  },
  {
   "cell_type": "code",
   "execution_count": 46,
   "id": "u0MZQnvm9Mkv",
   "metadata": {
    "colab": {
     "base_uri": "https://localhost:8080/",
     "height": 604
    },
    "executionInfo": {
     "elapsed": 1332,
     "status": "ok",
     "timestamp": 1708322524304,
     "user": {
      "displayName": "Veena Rajesh",
      "userId": "15771821035859620097"
     },
     "user_tz": -330
    },
    "id": "u0MZQnvm9Mkv",
    "outputId": "8ec0f661-b1c3-4497-b6dd-764a91be4854"
   },
   "outputs": [
    {
     "data": {
      "image/png": "[encoded data removed]",
      "text/plain": [
       "<Figure size 800x600 with 2 Axes>"
      ]
     },
     "metadata": {},
     "output_type": "display_data"
    }
   ],
   "source": [
    "from sklearn.metrics import confusion_matrix, roc_curve, auc\n",
    "import matplotlib.pyplot as plt\n",
    "\n",
    "\n",
    "# Create a confusion matrix\n",
    "conf_matrix = confusion_matrix(y_test, y_pred)\n",
    "\n",
    "# Plot the confusion matrix\n",
    "plt.figure(figsize=(8, 6))\n",
    "plt.imshow(conf_matrix, interpolation='nearest', cmap=plt.cm.Blues)\n",
    "plt.title('Confusion Matrix')\n",
    "plt.colorbar()\n",
    "\n",
    "classes = ['Negative', 'Positive']\n",
    "tick_marks = np.arange(len(classes))\n",
    "plt.xticks(tick_marks, classes, rotation=45,visible = True)\n",
    "plt.yticks(tick_marks, classes,visible = True)\n",
    "\n",
    "plt.xlabel('Predicted label')\n",
    "plt.ylabel('True label')\n",
    "\n",
    "for i in range(len(classes)):\n",
    "    for j in range(len(classes)):\n",
    "        plt.text(j, i, format(conf_matrix[i, j], 'd'), horizontalalignment='center', color='white' if conf_matrix[i, j] > conf_matrix.max() / 2 else 'black')\n",
    "\n",
    "plt.show()\n"
   ]
  },
  {
   "cell_type": "code",
   "execution_count": 42,
   "id": "f5e8a593-b508-437d-82ba-3e2d0d6ea445",
   "metadata": {},
   "outputs": [
    {
     "name": "stdout",
     "output_type": "stream",
     "text": [
      "Model saved to linear_regression_model.pkl\n"
     ]
    }
   ],
   "source": [
    "import pickle as pickle\n",
    "model_filename = 'linear_regression_model.pkl'\n",
    "with open(model_filename, 'wb') as file:\n",
    "    pickle.dump(classifier, file)\n",
    "print(f'Model saved to {model_filename}')"
   ]
  },
  {
   "cell_type": "code",
   "execution_count": 2,
   "id": "f564df88-11b4-4689-91ba-52352e1800af",
   "metadata": {},
   "outputs": [
    {
     "ename": "SyntaxError",
     "evalue": "invalid syntax (2357691903.py, line 1)",
     "output_type": "error",
     "traceback": [
      "\u001b[0;36m  Cell \u001b[0;32mIn[2], line 1\u001b[0;36m\u001b[0m\n\u001b[0;31m    git pull\u001b[0m\n\u001b[0m        ^\u001b[0m\n\u001b[0;31mSyntaxError\u001b[0m\u001b[0;31m:\u001b[0m invalid syntax\n"
     ]
    }
   ],
   "source": []
  }
 ],
 "metadata": {
  "colab": {
   "provenance": []
  },
  "kernelspec": {
   "display_name": "Python 3 (Intel® oneAPI 2023.2)",
   "language": "python",
   "name": "c009-intel_distribution_of_python_3_oneapi-beta05-python"
  },
  "language_info": {
   "codemirror_mode": {
    "name": "ipython",
    "version": 3
   },
   "file_extension": ".py",
   "mimetype": "text/x-python",
   "name": "python",
   "nbconvert_exporter": "python",
   "pygments_lexer": "ipython3",
   "version": "3.9.16"
  }
 },
 "nbformat": 4,
 "nbformat_minor": 5
}
