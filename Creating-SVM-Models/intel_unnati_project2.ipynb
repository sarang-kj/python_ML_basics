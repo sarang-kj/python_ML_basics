{
 "cells": [
  {
   "cell_type": "markdown",
   "metadata": {},
   "source": [
    "## Import required libraries"
   ]
  },
  {
   "cell_type": "code",
   "execution_count": 1,
   "metadata": {
    "id": "txwHlQtf1xYV"
   },
   "outputs": [],
   "source": [
    "import pandas as pd\n",
    "from sklearn.preprocessing import LabelEncoder\n",
    "from sklearn.svm import SVC\n",
    "from sklearn.model_selection import cross_validate\n",
    "from prettytable import PrettyTable\n",
    "import numpy as np\n",
    "from sklearn.preprocessing import StandardScaler\n",
    "from sklearn.model_selection import train_test_split"
   ]
  },
  {
   "cell_type": "markdown",
   "metadata": {},
   "source": [
    "## Read, process and split data"
   ]
  },
  {
   "cell_type": "code",
   "execution_count": 2,
   "metadata": {
    "id": "bT4NUpsB1hWj"
   },
   "outputs": [],
   "source": [
    "url = 'tested.csv'\n",
    "data = pd.read_csv(url)"
   ]
  },
  {
   "cell_type": "code",
   "execution_count": 3,
   "metadata": {
    "colab": {
     "base_uri": "https://localhost:8080/"
    },
    "id": "9mDqgYpa2Go9",
    "outputId": "6bc87722-ad4a-4ae9-c98e-35bf9320ef37"
   },
   "outputs": [
    {
     "data": {
      "text/plain": [
       "PassengerId      0\n",
       "Survived         0\n",
       "Pclass           0\n",
       "Name             0\n",
       "Sex              0\n",
       "Age             86\n",
       "SibSp            0\n",
       "Parch            0\n",
       "Ticket           0\n",
       "Fare             1\n",
       "Cabin          327\n",
       "Embarked         0\n",
       "dtype: int64"
      ]
     },
     "execution_count": 3,
     "metadata": {},
     "output_type": "execute_result"
    }
   ],
   "source": [
    "data.isnull().sum()  #How many null in each column"
   ]
  },
  {
   "cell_type": "code",
   "execution_count": 4,
   "metadata": {
    "id": "_JBqM-zZ2ReV"
   },
   "outputs": [],
   "source": [
    "# drop embarked\n",
    "data.drop('Cabin', axis=1, inplace=True)"
   ]
  },
  {
   "cell_type": "code",
   "execution_count": 5,
   "metadata": {
    "id": "TKDhL6w22pIY"
   },
   "outputs": [],
   "source": [
    "# drop na\n",
    "data.dropna(inplace=True)"
   ]
  },
  {
   "cell_type": "code",
   "execution_count": 6,
   "metadata": {
    "colab": {
     "base_uri": "https://localhost:8080/",
     "height": 206
    },
    "id": "BuyysLRk2rvh",
    "outputId": "6b534fc8-1338-40cd-e7d6-4260a6ac6742"
   },
   "outputs": [
    {
     "data": {
      "text/html": [
       "<div>\n",
       "<style scoped>\n",
       "    .dataframe tbody tr th:only-of-type {\n",
       "        vertical-align: middle;\n",
       "    }\n",
       "\n",
       "    .dataframe tbody tr th {\n",
       "        vertical-align: top;\n",
       "    }\n",
       "\n",
       "    .dataframe thead th {\n",
       "        text-align: right;\n",
       "    }\n",
       "</style>\n",
       "<table border=\"1\" class=\"dataframe\">\n",
       "  <thead>\n",
       "    <tr style=\"text-align: right;\">\n",
       "      <th></th>\n",
       "      <th>PassengerId</th>\n",
       "      <th>Survived</th>\n",
       "      <th>Pclass</th>\n",
       "      <th>Name</th>\n",
       "      <th>Sex</th>\n",
       "      <th>Age</th>\n",
       "      <th>SibSp</th>\n",
       "      <th>Parch</th>\n",
       "      <th>Ticket</th>\n",
       "      <th>Fare</th>\n",
       "      <th>Embarked</th>\n",
       "    </tr>\n",
       "  </thead>\n",
       "  <tbody>\n",
       "    <tr>\n",
       "      <th>0</th>\n",
       "      <td>892</td>\n",
       "      <td>0</td>\n",
       "      <td>3</td>\n",
       "      <td>Kelly, Mr. James</td>\n",
       "      <td>male</td>\n",
       "      <td>34.5</td>\n",
       "      <td>0</td>\n",
       "      <td>0</td>\n",
       "      <td>330911</td>\n",
       "      <td>7.8292</td>\n",
       "      <td>Q</td>\n",
       "    </tr>\n",
       "    <tr>\n",
       "      <th>1</th>\n",
       "      <td>893</td>\n",
       "      <td>1</td>\n",
       "      <td>3</td>\n",
       "      <td>Wilkes, Mrs. James (Ellen Needs)</td>\n",
       "      <td>female</td>\n",
       "      <td>47.0</td>\n",
       "      <td>1</td>\n",
       "      <td>0</td>\n",
       "      <td>363272</td>\n",
       "      <td>7.0000</td>\n",
       "      <td>S</td>\n",
       "    </tr>\n",
       "    <tr>\n",
       "      <th>2</th>\n",
       "      <td>894</td>\n",
       "      <td>0</td>\n",
       "      <td>2</td>\n",
       "      <td>Myles, Mr. Thomas Francis</td>\n",
       "      <td>male</td>\n",
       "      <td>62.0</td>\n",
       "      <td>0</td>\n",
       "      <td>0</td>\n",
       "      <td>240276</td>\n",
       "      <td>9.6875</td>\n",
       "      <td>Q</td>\n",
       "    </tr>\n",
       "    <tr>\n",
       "      <th>3</th>\n",
       "      <td>895</td>\n",
       "      <td>0</td>\n",
       "      <td>3</td>\n",
       "      <td>Wirz, Mr. Albert</td>\n",
       "      <td>male</td>\n",
       "      <td>27.0</td>\n",
       "      <td>0</td>\n",
       "      <td>0</td>\n",
       "      <td>315154</td>\n",
       "      <td>8.6625</td>\n",
       "      <td>S</td>\n",
       "    </tr>\n",
       "    <tr>\n",
       "      <th>4</th>\n",
       "      <td>896</td>\n",
       "      <td>1</td>\n",
       "      <td>3</td>\n",
       "      <td>Hirvonen, Mrs. Alexander (Helga E Lindqvist)</td>\n",
       "      <td>female</td>\n",
       "      <td>22.0</td>\n",
       "      <td>1</td>\n",
       "      <td>1</td>\n",
       "      <td>3101298</td>\n",
       "      <td>12.2875</td>\n",
       "      <td>S</td>\n",
       "    </tr>\n",
       "  </tbody>\n",
       "</table>\n",
       "</div>"
      ],
      "text/plain": [
       "   PassengerId  Survived  Pclass  \\\n",
       "0          892         0       3   \n",
       "1          893         1       3   \n",
       "2          894         0       2   \n",
       "3          895         0       3   \n",
       "4          896         1       3   \n",
       "\n",
       "                                           Name     Sex   Age  SibSp  Parch  \\\n",
       "0                              Kelly, Mr. James    male  34.5      0      0   \n",
       "1              Wilkes, Mrs. James (Ellen Needs)  female  47.0      1      0   \n",
       "2                     Myles, Mr. Thomas Francis    male  62.0      0      0   \n",
       "3                              Wirz, Mr. Albert    male  27.0      0      0   \n",
       "4  Hirvonen, Mrs. Alexander (Helga E Lindqvist)  female  22.0      1      1   \n",
       "\n",
       "    Ticket     Fare Embarked  \n",
       "0   330911   7.8292        Q  \n",
       "1   363272   7.0000        S  \n",
       "2   240276   9.6875        Q  \n",
       "3   315154   8.6625        S  \n",
       "4  3101298  12.2875        S  "
      ]
     },
     "execution_count": 6,
     "metadata": {},
     "output_type": "execute_result"
    }
   ],
   "source": [
    "data.head()"
   ]
  },
  {
   "cell_type": "code",
   "execution_count": 7,
   "metadata": {
    "id": "5LKo1xuh3NEH"
   },
   "outputs": [
    {
     "name": "stderr",
     "output_type": "stream",
     "text": [
      "Intel(R) Extension for Scikit-learn* enabled (https://github.com/intel/scikit-learn-intelex)\n"
     ]
    }
   ],
   "source": [
    "\n",
    "le = LabelEncoder()\n",
    "data['Sex'] = le.fit_transform(data['Sex'])"
   ]
  },
  {
   "cell_type": "code",
   "execution_count": 8,
   "metadata": {
    "id": "A3aJ_kDg3eMF"
   },
   "outputs": [],
   "source": [
    "X = data[['Pclass', 'Sex', 'Age', 'SibSp', 'Parch', 'Fare']]\n",
    "y = data['Survived']"
   ]
  },
  {
   "cell_type": "code",
   "execution_count": 9,
   "metadata": {
    "id": "Kc0eFrfi3zMT"
   },
   "outputs": [],
   "source": [
    "\n",
    "x_train, x_test, y_train, y_test = train_test_split(X, y, test_size=0.2, random_state=65)"
   ]
  },
  {
   "cell_type": "code",
   "execution_count": 10,
   "metadata": {
    "id": "kOqeNqXV4TuR"
   },
   "outputs": [],
   "source": [
    "# Standardize\n",
    "\n",
    "scalar = StandardScaler().fit(x_train)\n",
    "x_train_transformed = scalar.transform(x_train)\n",
    "x_test_transformed = scalar.transform(x_test)"
   ]
  },
  {
   "cell_type": "markdown",
   "metadata": {
    "id": "rYWKKZER5kgj"
   },
   "source": [
    "## Create and predict model"
   ]
  },
  {
   "cell_type": "code",
   "execution_count": 24,
   "metadata": {
    "colab": {
     "base_uri": "https://localhost:8080/"
    },
    "id": "4ITx4K6-4-wA",
    "outputId": "05c68b34-818c-4b9c-c3b0-5763c2eefccf"
   },
   "outputs": [
    {
     "name": "stdout",
     "output_type": "stream",
     "text": [
      "+---------+-----+--------------+\n",
      "|  Kernel |  C  | Avg accuracy |\n",
      "+---------+-----+--------------+\n",
      "|  linear | 0.5 |     1.0      |\n",
      "|  linear | 1.0 |     1.0      |\n",
      "|  linear | 1.5 |     1.0      |\n",
      "|  linear | 2.0 |     1.0      |\n",
      "|  linear | 2.5 |     1.0      |\n",
      "|   poly  | 0.5 |     1.0      |\n",
      "|   poly  | 1.0 |     1.0      |\n",
      "|   poly  | 1.5 |     1.0      |\n",
      "|   poly  | 2.0 |     1.0      |\n",
      "|   poly  | 2.5 |     1.0      |\n",
      "|   rbf   | 0.5 |    0.989     |\n",
      "|   rbf   | 1.0 |    0.989     |\n",
      "|   rbf   | 1.5 |    0.996     |\n",
      "|   rbf   | 2.0 |    0.996     |\n",
      "|   rbf   | 2.5 |    0.996     |\n",
      "| sigmoid | 0.5 |    0.966     |\n",
      "| sigmoid | 1.0 |    0.969     |\n",
      "| sigmoid | 1.5 |    0.981     |\n",
      "| sigmoid | 2.0 |    0.977     |\n",
      "| sigmoid | 2.5 |    0.966     |\n",
      "+---------+-----+--------------+\n"
     ]
    }
   ],
   "source": [
    "# Cross validation for hyper-parameter tuning\n",
    "hyperparameter_score_list = []\n",
    "for kernel in ['linear', 'poly', 'rbf', 'sigmoid']:\n",
    "    for c in np.arange(0.5,3,0.5):\n",
    "        svm = SVC(kernel=kernel, C=c)\n",
    "        scores = cross_validate(svm, x_train_transformed, y_train, cv=15, scoring='accuracy')\n",
    "        mean_score = np.mean(scores['test_score'])\n",
    "        hyperparameter_score_list.append([kernel, c, mean_score])\n",
    "# Choose the hyper-parameters (with highest average accuracy)\n",
    "myTable = PrettyTable([\"Kernel\", \"C\", \"Avg accuracy\"])\n",
    "for row in hyperparameter_score_list:\n",
    "    myTable.add_row([row[0], row[1], round(row[2],3)])\n",
    "print(myTable)"
   ]
  },
  {
   "cell_type": "markdown",
   "metadata": {},
   "source": [
    "## Analysis(Accuracy score) and Visualisation(matplotlib or Seaborn)"
   ]
  },
  {
   "cell_type": "code",
   "execution_count": 25,
   "metadata": {
    "id": "0pAOUxJh69JE"
   },
   "outputs": [],
   "source": [
    "import matplotlib.pyplot as plt"
   ]
  },
  {
   "cell_type": "code",
   "execution_count": 43,
   "metadata": {},
   "outputs": [
    {
     "data": {
      "image/png": "[encoded data removed]",
      "text/plain": [
       "<Figure size 640x480 with 4 Axes>"
      ]
     },
     "metadata": {},
     "output_type": "display_data"
    }
   ],
   "source": [
    "# Try different C\n",
    "c_range = np.linspace(0.1, 3, 116)\n",
    "\n",
    "test_svm = []\n",
    "train_svm = []\n",
    "kernels = ['linear', 'poly', 'rbf', 'sigmoid']\n",
    "for kernel in kernels:\n",
    "    test_svm1 = []\n",
    "    train_svm1 = []\n",
    "    for c in c_range:\n",
    "        svm_classifier = SVC(kernel=kernel, C=c)\n",
    "        svm_classifier.fit(x_train_transformed, y_train)\n",
    "        train_svm1.append(svm_classifier.score(x_train_transformed, y_train))\n",
    "        test_svm1.append(svm_classifier.score(x_test_transformed, y_test))\n",
    "    test_svm.append(test_svm1)\n",
    "    train_svm.append(train_svm1)\n",
    "# Line plot of training/testing score\n",
    "fig, axes = plt.subplots(nrows = 1,ncols = 4)\n",
    "for i in range(0,4):\n",
    "    arr = train_svm[i]\n",
    "    arr1 = test_svm[i]\n",
    "    axes[i].plot(c_range, arr, c='orange', label='Train')\n",
    "    axes[i].plot(c_range, arr1, c='m', label='test')\n",
    "    axes[i].set_xlabel('C')\n",
    "    axes[i].set_xticks(c_range)\n",
    "    axes[i].set_ylabel('Accuracy score')\n",
    "    axes[i].set_ylim(0.7, 1)\n",
    "    axes[i].set_title(kernels[i])\n",
    "    \n",
    "\n"
   ]
  },
  {
   "cell_type": "code",
   "execution_count": null,
   "metadata": {},
   "outputs": [],
   "source": []
  }
 ],
 "metadata": {
  "colab": {
   "provenance": []
  },
  "kernelspec": {
   "display_name": "Python 3 (Intel® oneAPI 2023.2)",
   "language": "python",
   "name": "c009-intel_distribution_of_python_3_oneapi-beta05-python"
  },
  "language_info": {
   "codemirror_mode": {
    "name": "ipython",
    "version": 3
   },
   "file_extension": ".py",
   "mimetype": "text/x-python",
   "name": "python",
   "nbconvert_exporter": "python",
   "pygments_lexer": "ipython3",
   "version": "3.9.16"
  }
 },
 "nbformat": 4,
 "nbformat_minor": 4
}
