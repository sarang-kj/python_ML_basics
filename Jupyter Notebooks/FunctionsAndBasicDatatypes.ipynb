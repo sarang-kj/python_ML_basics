{
 "cells": [
  {
   "cell_type": "markdown",
   "id": "037e8f43-c070-444b-8b54-a1687046da37",
   "metadata": {},
   "source": [
    "## *What is 7 to the power of 4*"
   ]
  },
  {
   "cell_type": "code",
   "execution_count": 1,
   "id": "5351fdea-5e5d-489b-a21c-ee19270df998",
   "metadata": {},
   "outputs": [
    {
     "data": {
      "text/plain": [
       "2401"
      ]
     },
     "execution_count": 1,
     "metadata": {},
     "output_type": "execute_result"
    }
   ],
   "source": [
    "7**4"
   ]
  },
  {
   "cell_type": "markdown",
   "id": "3809533c-58a9-48e4-9746-5b2b4c7236b3",
   "metadata": {},
   "source": [
    "## *Split the `string`*\n",
    ">s = \"Hi there Sam\"\n",
    "## into a list"
   ]
  },
  {
   "cell_type": "code",
   "execution_count": 4,
   "id": "ac6eabc2-9630-455b-8daf-a725ae2e890b",
   "metadata": {},
   "outputs": [
    {
     "name": "stdout",
     "output_type": "stream",
     "text": [
      "['Hi', 'there', 'Sam'] ['Hi', 'there', 'dad!']\n"
     ]
    }
   ],
   "source": [
    "s = \"Hi there Sam\"\n",
    "s1 = \"Hi there dad!\"\n",
    "myList = list(s.split(' '))\n",
    "myList1 = list(s1.split(' '))\n",
    "print(myList, myList1)"
   ]
  },
  {
   "cell_type": "markdown",
   "id": "16a3267b-6d76-4f49-b900-ada081a20ee7",
   "metadata": {},
   "source": [
    "## Use `.format()` to print the following string\n",
    "> The diameter of the Earth is 12742"
   ]
  },
  {
   "cell_type": "code",
   "execution_count": 5,
   "id": "7b840326-cc22-4fd1-968d-c5dc10143c64",
   "metadata": {},
   "outputs": [],
   "source": [
    "planet = \"Earth\"\n",
    "diameter = 12742"
   ]
  },
  {
   "cell_type": "code",
   "execution_count": 6,
   "id": "8d565983-5d6f-4a6a-974e-161b4c659c55",
   "metadata": {},
   "outputs": [
    {
     "name": "stdout",
     "output_type": "stream",
     "text": [
      "The diameter of the Earth is 12742\n"
     ]
    }
   ],
   "source": [
    "print(\"The diameter of the {} is {}\".format(planet,diameter))"
   ]
  },
  {
   "cell_type": "markdown",
   "id": "00ec2e65-cbcf-4015-8900-a3ed043d38df",
   "metadata": {},
   "source": [
    "## Given the nested list, use indexing to grab the word \"hello\""
   ]
  },
  {
   "cell_type": "code",
   "execution_count": 8,
   "id": "5076b269-77b6-4563-85e3-f5fd53e80cbd",
   "metadata": {},
   "outputs": [],
   "source": [
    "lst = [1,2,[3,4],[5,[100,200,[\"hello\"]],23,11],1,7]"
   ]
  },
  {
   "cell_type": "code",
   "execution_count": 9,
   "id": "ca511292-6914-4a30-98fc-b7483905bb3c",
   "metadata": {},
   "outputs": [
    {
     "data": {
      "text/plain": [
       "['hello']"
      ]
     },
     "execution_count": 9,
     "metadata": {},
     "output_type": "execute_result"
    }
   ],
   "source": [
    "lst[3][1][2]"
   ]
  },
  {
   "cell_type": "markdown",
   "id": "e03149ca-e77d-4980-bd76-5132fa90a6d2",
   "metadata": {},
   "source": [
    "## Given the nested dictionary grab the word \"hello\"."
   ]
  },
  {
   "cell_type": "code",
   "execution_count": 12,
   "id": "a7945fae-0ee1-4e09-acb6-d8b2faba10f0",
   "metadata": {},
   "outputs": [],
   "source": [
    "d = {'k1':[1,2,3,{'tricky':['oh','man','inception',{'target':[1,2,3,'hello']}]}]}"
   ]
  },
  {
   "cell_type": "code",
   "execution_count": 20,
   "id": "fbbab930-a41f-4cf5-87a1-89bd00d638ea",
   "metadata": {},
   "outputs": [
    {
     "data": {
      "text/plain": [
       "'hello'"
      ]
     },
     "execution_count": 20,
     "metadata": {},
     "output_type": "execute_result"
    }
   ],
   "source": [
    "l1 = d['k1']#retrieve value of 1st key\n",
    "d1 = l1[3]     \n",
    "l2 = d1['tricky']#retrieve value of 2nd key\n",
    "d2 = l2[3]     \n",
    "l3 = d2['target']#retrieve value of 3rd key\n",
    "out = l3[3]#select \"hello\"\n",
    "out"
   ]
  },
  {
   "cell_type": "markdown",
   "id": "51bfc49d-4906-4435-b167-307a6c592226",
   "metadata": {},
   "source": [
    "## What is the main difference between a tuple and a list"
   ]
  },
  {
   "cell_type": "markdown",
   "id": "387fd486-46d5-40f4-a9cc-13fe82fc55a4",
   "metadata": {},
   "source": [
    "Tuples are immutable, while lists are mutable"
   ]
  },
  {
   "cell_type": "markdown",
   "id": "40ce4124-514e-408b-ae38-00da1ee57aaa",
   "metadata": {},
   "source": [
    "## Create a function that grabs the email website domain name from a string of the form\n",
    "> 'user@domain.com'"
   ]
  },
  {
   "cell_type": "code",
   "execution_count": 22,
   "id": "a18eb4a7-a4fb-4304-acee-8a3d356cd5b4",
   "metadata": {},
   "outputs": [
    {
     "name": "stdin",
     "output_type": "stream",
     "text": [
      "Enter valid Email ID: domain@user.com\n"
     ]
    },
    {
     "name": "stdout",
     "output_type": "stream",
     "text": [
      "Domain name is user.com\n"
     ]
    }
   ],
   "source": [
    "def domainGet(mail_Id):\n",
    "    domain = list(mail_Id.split('@'))\n",
    "    return domain[1]\n",
    "def main():\n",
    "    mail_Id = input(\"Enter valid Email ID:\")\n",
    "    domain = domainGet(mail_Id)\n",
    "    print(\"Domain name is {}\".format(domain))\n",
    "main()"
   ]
  },
  {
   "cell_type": "markdown",
   "id": "152b95ab-dff3-4096-b948-d7e1012a5591",
   "metadata": {},
   "source": [
    "## Create a function that returns True if the word 'dog' is contained in the input string."
   ]
  },
  {
   "cell_type": "code",
   "execution_count": 25,
   "id": "e97d1c4c-3f5e-461d-a12a-2aeb4dcf4535",
   "metadata": {},
   "outputs": [
    {
     "name": "stdin",
     "output_type": "stream",
     "text": [
      "Enter a sentence: How about now dog?\n"
     ]
    },
    {
     "name": "stdout",
     "output_type": "stream",
     "text": [
      "True\n"
     ]
    }
   ],
   "source": [
    "def findDog(sent):\n",
    "    sent = sent.lower()\n",
    "    if 'dog' in sent:\n",
    "        return True\n",
    "    else:\n",
    "        return False\n",
    "def main():\n",
    "    sent = input(\"Enter a sentence:\")\n",
    "    dogMaybe = findDog(sent)\n",
    "    print(dogMaybe)\n",
    "main()"
   ]
  },
  {
   "cell_type": "markdown",
   "id": "99c55501-dfc0-4534-8935-dbbb3a0c0417",
   "metadata": {},
   "source": [
    "## Create a function that returns the amount of times the word 'dog' occurs in an input string"
   ]
  },
  {
   "cell_type": "code",
   "execution_count": 6,
   "id": "a88d5f0d-7796-460f-8ee1-17054d1fa540",
   "metadata": {},
   "outputs": [
    {
     "name": "stdin",
     "output_type": "stream",
     "text": [
      "Enter a sentence: Every dog has its dog day\n"
     ]
    },
    {
     "name": "stdout",
     "output_type": "stream",
     "text": [
      "2\n"
     ]
    }
   ],
   "source": [
    "def countDog(sent):\n",
    "    sentList = list(sent.split(' '))\n",
    "    result = list(filter(lambda x: (x  == 'dog'), sentList))\n",
    "    return len(result)\n",
    "def main():\n",
    "    sent = input(\"Enter a sentence:\")\n",
    "    dogMaybe = countDog(sent)\n",
    "    print(dogMaybe)\n",
    "main()"
   ]
  },
  {
   "cell_type": "markdown",
   "id": "5e765d92-ae51-4d3c-9dfe-bec81c992321",
   "metadata": {},
   "source": [
    "## You are driving a little too fast, and a police officer stops you. Write a function to return one of 3 possible results: \"No ticket\", \"Small ticket\", or \"Big Ticket\". If your speed is 60 or less, the result is \"No Ticket\". If speed is between 61 and 80 inclusive, the result is \"Small Ticket\". If speed is 81 or more, the result is \"Big Ticket\". Unless it is your birthday (encoded as a boolean value in the parameters of the function) -- on your birthday, your speed can be 5 higher in all cases. "
   ]
  },
  {
   "cell_type": "code",
   "execution_count": 3,
   "id": "bacfb867-cb95-494e-b3d2-132aba21d293",
   "metadata": {},
   "outputs": [
    {
     "name": "stdin",
     "output_type": "stream",
     "text": [
      "Enter speed: 81\n",
      "Is it your birthday (Enter True or False) True\n"
     ]
    },
    {
     "name": "stdout",
     "output_type": "stream",
     "text": [
      "Small Ticket\n"
     ]
    }
   ],
   "source": [
    "def caughtSpeeding(speed, is_birthday):\n",
    "    lower_limit = 61\n",
    "    upper_limit = 81\n",
    "    if is_birthday:\n",
    "        lower_limit += 5\n",
    "        upper_limit += 5\n",
    "    if speed<lower_limit:\n",
    "        return \"No ticket\"\n",
    "    elif speed>lower_limit & speed< upper_limit:\n",
    "        return \"Small Ticket\"\n",
    "    else:\n",
    "        return \"Big Ticket\"\n",
    "def main():\n",
    "    speed = int(input(\"Enter speed:\"))\n",
    "    is_birthday = input(\"Is it your birthday (Enter True or False)\")\n",
    "    ticket = caughtSpeeding(speed, is_birthday)\n",
    "    print(ticket)\n",
    "main()\n",
    "    \n",
    "        "
   ]
  },
  {
   "cell_type": "code",
   "execution_count": null,
   "id": "9f1f51a6-6795-4744-a3c2-78cbbd34e99d",
   "metadata": {},
   "outputs": [],
   "source": []
  }
 ],
 "metadata": {
  "kernelspec": {
   "display_name": "Python 3 (Intel® oneAPI 2023.2)",
   "language": "python",
   "name": "c009-intel_distribution_of_python_3_oneapi-beta05-python"
  },
  "language_info": {
   "codemirror_mode": {
    "name": "ipython",
    "version": 3
   },
   "file_extension": ".py",
   "mimetype": "text/x-python",
   "name": "python",
   "nbconvert_exporter": "python",
   "pygments_lexer": "ipython3",
   "version": "3.9.16"
  }
 },
 "nbformat": 4,
 "nbformat_minor": 5
}
